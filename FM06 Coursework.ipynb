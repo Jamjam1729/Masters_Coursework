{
 "cells": [
  {
   "cell_type": "code",
   "execution_count": 21,
   "metadata": {},
   "outputs": [],
   "source": [
    "#Setup\n",
    "import numpy as np\n",
    "from numpy.testing import assert_almost_equal\n",
    "import scipy.integrate as integrate\n",
    "from scipy.stats import norm\n",
    "import matplotlib.pyplot as plt \n"
   ]
  },
  {
   "cell_type": "markdown",
   "metadata": {},
   "source": [
    "## Part 0 - Setup"
   ]
  },
  {
   "cell_type": "code",
   "execution_count": 22,
   "metadata": {},
   "outputs": [],
   "source": [
    "### Constants\n",
    "sigma1 = 0.11\n",
    "sigma2 = 0.13\n",
    "T = 1.7\n",
    "sim_end_time = T #This is true in Q1, not later on\n",
    "mu = 0.13\n",
    "r = 0.01\n",
    "S0 = 149\n",
    "time_break = 0.3\n",
    "K = 188\n",
    "KH = S0\n",
    "n_sims = 5_000 #default value, overwritten later\n",
    "n_steps = int(T * 365) #Assume time in years, this is daily time-steps"
   ]
  },
  {
   "cell_type": "code",
   "execution_count": 23,
   "metadata": {},
   "outputs": [],
   "source": [
    "### Helper Functions\n",
    "\n",
    "### Time-varying vol\n",
    "\n",
    "def constant_vol(t):\n",
    "    return sigma1 + sigma2\n",
    "\n",
    "def time_varying_vol(t):\n",
    "    if t > time_break:\n",
    "        return sigma1 + sigma2 * (t - time_break)/(T - time_break)\n",
    "    return sigma1\n",
    "\n",
    "assert_almost_equal(np.array([time_varying_vol(0.2), time_varying_vol(0.4), time_varying_vol(0.5), time_varying_vol(T)]) ,\n",
    "                    np.array([sigma1, 0.11928571428, 0.128571429, sigma1 + sigma2]))\n",
    "\n",
    "def integrate_vol(start_time = 0, end_time = T):\n",
    "    squared_vol = lambda x: time_varying_vol(x) ** 2\n",
    "    result = integrate.quad(squared_vol, start_time, end_time)\n",
    "    return result[0]\n",
    "\n",
    "assert_almost_equal(np.array([integrate_vol(end_time = time_break), integrate_vol(0, 1), integrate_vol(start_time = 0)]),\n",
    "                    np.array([time_break * sigma1 ** 2, 0.018090833333, 0.0484766666]))\n",
    "\n",
    "### Black-Scholes\n",
    "\n",
    "def get_d1_and_d2(S, t, K, T, r, sigma):\n",
    "    tau = T - t\n",
    "    d1 = 1/(sigma * np.sqrt(tau)) * (np.log(S/K) + (r + sigma ** 2 / 2) * tau)    \n",
    "    d2 = d1 - sigma * np.sqrt(tau)\n",
    "    return d1, d2\n",
    "\n",
    "def black_scholes_call_price(S, t, K, T, r,sigma):\n",
    "    d1, d2 = get_d1_and_d2(S, t, K, T, r, sigma)\n",
    "    return S * norm.cdf(d1) - K * np.exp(-r * (T- t)) * norm.cdf(d2)\n",
    "\n",
    "def black_scholes_put_price(S,t, K,T,r,sigma):\n",
    "    d1, d2 = get_d1_and_d2(S, t, K, T, r, sigma)\n",
    "    return  K * np.exp(-r * (T - t)) * norm.cdf( -d2) - S * norm.cdf(-d1) \n",
    "\n",
    "def black_scholes_call_delta(S, t, K, T, r,sigma):\n",
    "    d1, d2 = get_d1_and_d2(S, t, K, T, r, sigma)\n",
    "    return norm.cdf(d1)\n",
    "\n",
    "def black_scholes_put_delta(S, t, K, T, r,sigma):\n",
    "    d1, d2 = get_d1_and_d2(S, t, K, T, r, sigma)\n",
    "    return -1 * norm.cdf(-1 * d1)\n",
    "\n",
    "def black_scholes_gamma(S, t, K, T, r,sigma):\n",
    "    #same for a call and put\n",
    "    d1, d2 = get_d1_and_d2(S, t, K, T, r, sigma)\n",
    "    return norm.pdf(d1)/(S * sigma * np.sqrt(T - t))\n",
    "\n",
    "\n",
    "assert_almost_equal(black_scholes_call_price(100,0,  100, 1, 0.01, 0.2), 8.43332, decimal = 5)\n",
    "assert_almost_equal(black_scholes_call_price(100,0.99,  95, 1, 0.01, 0.2), 5.01264, decimal = 5)\n",
    "assert_almost_equal(black_scholes_put_price(100,0, 100, 1, 0.01, 0.2), 7.43831, decimal = 5)\n",
    "assert_almost_equal(black_scholes_put_price(100,0.99,  95, 1, 0.01, 0.2), 0.00314, decimal = 5)\n",
    "\n",
    "assert_almost_equal(black_scholes_call_delta(100,0, 100, 1, 0.01, 0.2), 0.55962, decimal = 5)\n",
    "assert_almost_equal(black_scholes_call_delta(100,0.99,  95, 1, 0.01, 0.2), 0.99506, decimal = 5)\n",
    "assert_almost_equal(black_scholes_put_delta(100,0, 100, 1, 0.01, 0.2), -0.44038, decimal = 5)\n",
    "assert_almost_equal(black_scholes_put_delta(100,0.99, 95, 1, 0.01, 0.2), -0.00494, decimal = 5)\n",
    "\n",
    "\n",
    "assert_almost_equal(black_scholes_gamma(100,0, 100, 1, 0.01, 0.2), 0.01972, decimal = 5)\n",
    "assert_almost_equal(black_scholes_gamma(100,0.99, 95, 1, 0.01, 0.2), 0.00716, decimal = 5)\n",
    "\n",
    "\n"
   ]
  },
  {
   "cell_type": "code",
   "execution_count": 24,
   "metadata": {},
   "outputs": [],
   "source": [
    "class time_varying_vol:\n",
    "    def __init__(self):\n",
    "        pass\n",
    "    \n",
    "    def time_varying_vol(self, t):\n",
    "        if t > time_break:\n",
    "            return sigma1 + sigma2 * (t - time_break)/(T - time_break) # this needs to be the constant T, rather than the input T\n",
    "        return sigma1\n",
    "\n",
    "    def integrate_vol(self, start_time, end_time):\n",
    "        squared_vol = lambda x: self.time_varying_vol(x) ** 2\n",
    "        result = integrate.quad(squared_vol, start_time, end_time)\n",
    "        return result[0]\n",
    "\n",
    "Test_vol = time_varying_vol()\n",
    "assert_almost_equal(np.array([Test_vol.time_varying_vol(0.2), Test_vol.time_varying_vol(0.4), Test_vol.time_varying_vol(0.5), Test_vol.time_varying_vol(T)]) ,\n",
    "                    np.array([sigma1, 0.11928571428, 0.128571429, sigma1 + sigma2]))\n",
    "\n",
    "assert_almost_equal(np.array([Test_vol.integrate_vol(start_time = 0, end_time = time_break), Test_vol.integrate_vol(0, 1), Test_vol.integrate_vol(start_time = 0, end_time = T)]),\n",
    "                    np.array([time_break * sigma1 ** 2, 0.018090833333, 0.0484766666]))"
   ]
  },
  {
   "cell_type": "code",
   "execution_count": 25,
   "metadata": {},
   "outputs": [],
   "source": [
    "def simulate_gbm(S0, mu, vol_model, n_steps, n_sims, simulation_end_time):\n",
    "    rng = np.random.default_rng(seed = 42) #Seeding here for full result consistency\n",
    "    dt = simulation_end_time / n_steps\n",
    "    times = np.linspace(0, simulation_end_time, n_steps + 1)\n",
    "    epsilon = rng.normal(size = [n_sims, n_steps])\n",
    "    \n",
    "    paths = np.zeros([n_sims, n_steps + 1])\n",
    "    paths[:, 0] = S0\n",
    "\n",
    "    for i in range(0, n_steps):\n",
    "        #Euler-Maruyama Scheme\n",
    "        paths[:, i + 1] = paths[:, i] + paths[:, i] * mu * dt + paths[:, i] * vol_model.time_varying_vol(times[i]) * np.sqrt(dt) * epsilon[:, i]\n",
    "    \n",
    "    return times, paths"
   ]
  },
  {
   "cell_type": "markdown",
   "metadata": {},
   "source": [
    "## Q1 - Delta Hedging"
   ]
  },
  {
   "cell_type": "code",
   "execution_count": 26,
   "metadata": {},
   "outputs": [],
   "source": [
    "class Hedger:\n",
    "    def __init__(self, S0, K, T, r, mu, n_sims, n_steps, vol_model, simulation_end_time = None, constant_vol_assumption = False, do_gamma_hedging = False):\n",
    "        \n",
    "        #Inputs\n",
    "        self.S0 = S0\n",
    "        self.K = K\n",
    "        self.T = T\n",
    "        self.r = r\n",
    "        self.mu = mu\n",
    "        self.vol_model = vol_model\n",
    "        self.constant_vol_assumption = constant_vol_assumption\n",
    "        self.n_sims = n_sims\n",
    "        self.n_steps = n_steps\n",
    "        self.do_gamma_hedging = do_gamma_hedging\n",
    "\n",
    "        if simulation_end_time is not None:\n",
    "            self.simulation_end_time = simulation_end_time\n",
    "        else:\n",
    "            self.simulation_end_time = T #Assume sim full period unless specified\n",
    "\n",
    "        #Derived\n",
    "        self.dt = self.simulation_end_time / self.n_steps\n",
    "\n",
    "        full_period_vol = self.get_integrated_vol(0, self.T) \n",
    "        self.initial_price = black_scholes_call_price(self.S0, 0, self.K, self.T, self.r, full_period_vol)\n",
    "\n",
    "        #Always need paths and payoffs, so do this on initialisation\n",
    "        self.simulation_setup()\n",
    "        self.get_call_prices()\n",
    "\n",
    "    def get_integrated_vol(self, start_time, end_time):\n",
    "        if self.constant_vol_assumption:\n",
    "            return self.vol_model.time_varying_vol(self.T)  \n",
    "        else:\n",
    "            return np.sqrt(1 / (end_time - start_time) * self.vol_model.integrate_vol(start_time = start_time, end_time = end_time))\n",
    "\n",
    "    def simulation_setup(self):\n",
    "        self.times, self.paths = simulate_gbm(self.S0, self.mu, self.vol_model, self.n_steps, self.n_sims, self.simulation_end_time)\n",
    "\n",
    "    def get_call_prices(self):\n",
    "        \n",
    "        S_T = self.paths[:, -1]\n",
    "        if self.simulation_end_time == self.T:\n",
    "            self.call_prices = np.maximum(S_T - self.K, 0)\n",
    "        else:\n",
    "            integrated_vol = self.get_integrated_vol(self.simulation_end_time, self.T)\n",
    "            self.call_prices = black_scholes_call_price(S_T, self.simulation_end_time, self.K, self.T, self.r, integrated_vol)                  \n",
    "\n",
    "    def simulate_delta_varying_vol(self):\n",
    "        \n",
    "        portfolio = np.zeros(self.paths.shape)\n",
    "        portfolio[:, 0] = self.initial_price\n",
    "\n",
    "        for i in range(0, len(self.times) - 1):\n",
    "            t = self.times[i]\n",
    "            \n",
    "\n",
    "            S_at_t = self.paths[:, i] \n",
    "            S_at_t_plus_dt = self.paths[:, i+1]\n",
    "            \n",
    "            vol_t = self.get_integrated_vol(t, self.T)\n",
    "            delta_t = black_scholes_call_delta(S_at_t, t, self.K, self.T, self.r, vol_t)\n",
    "\n",
    "            if self.do_gamma_hedging:\n",
    "                t_plus_dt = self.times[i+1]\n",
    "                hedge_option_at_t = black_scholes_put_price(S_at_t, t, KH, self.T,self.r, self.vol_model(self.T))\n",
    "                hedge_option_at_t_plus_dt = black_scholes_put_price(S_at_t_plus_dt, t_plus_dt, KH, self.T,self.r, self.vol_model(self.T))\n",
    "\n",
    "                hedging_gamma = black_scholes_gamma(self.S0, 0, KH, self.T,self.r, self.vol_model(self.T))\n",
    "                hedging_delta = black_scholes_put_delta(self.S0, 0, KH, self.T,self.r, self.vol_model(self.T))\n",
    "\n",
    "                target_gamma = black_scholes_gamma(self.S0, 0, self.K, self.T,self.r, self.vol_model(self.T))\n",
    "\n",
    "                option_holding = target_gamma / hedging_gamma\n",
    "            else:\n",
    "                hedge_option_at_t = 0\n",
    "                option_holding = 0\n",
    "                hedging_delta = 0\n",
    "\n",
    "            stock_holding = (delta_t - option_holding * hedging_delta)\n",
    "\n",
    "            bank_at_t = portfolio[:, i] - stock_holding * S_at_t - option_holding * hedge_option_at_t\n",
    "            bank_at_t_plus_dt = bank_at_t * np.exp(self.dt * self.r)\n",
    "            \n",
    "            new_stock_value = stock_holding * S_at_t_plus_dt\n",
    "            new_option_value = option_holding * hedge_option_at_t_plus_dt\n",
    "\n",
    "            portfolio[:, i + 1] = bank_at_t_plus_dt + new_stock_value + new_option_value\n",
    "\n",
    "        self.portfolio = portfolio\n",
    "        \n",
    "        final_portfolio = portfolio[:, -1]\n",
    "        error = final_portfolio - self.call_prices\n",
    "        return error, self.initial_price"
   ]
  },
  {
   "cell_type": "code",
   "execution_count": 27,
   "metadata": {},
   "outputs": [
    {
     "ename": "UnboundLocalError",
     "evalue": "local variable 'hedge_option_at_t' referenced before assignment",
     "output_type": "error",
     "traceback": [
      "\u001b[1;31m---------------------------------------------------------------------------\u001b[0m",
      "\u001b[1;31mUnboundLocalError\u001b[0m                         Traceback (most recent call last)",
      "Input \u001b[1;32mIn [27]\u001b[0m, in \u001b[0;36m<cell line: 4>\u001b[1;34m()\u001b[0m\n\u001b[0;32m      1\u001b[0m vol_model \u001b[38;5;241m=\u001b[39m time_varying_vol()\n\u001b[0;32m      3\u001b[0m Q1 \u001b[38;5;241m=\u001b[39m Hedger(S0, K, T, r, mu, n_sims, n_steps, vol_model \u001b[38;5;241m=\u001b[39m vol_model)\n\u001b[1;32m----> 4\u001b[0m error_Q1, price_Q1 \u001b[38;5;241m=\u001b[39m \u001b[43mQ1\u001b[49m\u001b[38;5;241;43m.\u001b[39;49m\u001b[43msimulate_delta_varying_vol\u001b[49m\u001b[43m(\u001b[49m\u001b[43m)\u001b[49m\n\u001b[0;32m      5\u001b[0m plt\u001b[38;5;241m.\u001b[39mfigure(\u001b[38;5;241m0\u001b[39m)\n\u001b[0;32m      6\u001b[0m plt\u001b[38;5;241m.\u001b[39mhist(error_Q1, bins \u001b[38;5;241m=\u001b[39m \u001b[38;5;241m50\u001b[39m)\n",
      "Input \u001b[1;32mIn [26]\u001b[0m, in \u001b[0;36mHedger.simulate_delta_varying_vol\u001b[1;34m(self)\u001b[0m\n\u001b[0;32m     77\u001b[0m     hedging_delta \u001b[38;5;241m=\u001b[39m \u001b[38;5;241m0\u001b[39m\n\u001b[0;32m     79\u001b[0m stock_holding \u001b[38;5;241m=\u001b[39m (delta_t \u001b[38;5;241m-\u001b[39m option_holding \u001b[38;5;241m*\u001b[39m hedging_delta)\n\u001b[1;32m---> 81\u001b[0m bank_at_t \u001b[38;5;241m=\u001b[39m portfolio[:, i] \u001b[38;5;241m-\u001b[39m stock_holding \u001b[38;5;241m*\u001b[39m S_at_t \u001b[38;5;241m-\u001b[39m option_holding \u001b[38;5;241m*\u001b[39m \u001b[43mhedge_option_at_t\u001b[49m\n\u001b[0;32m     82\u001b[0m bank_at_t_plus_dt \u001b[38;5;241m=\u001b[39m bank_at_t \u001b[38;5;241m*\u001b[39m np\u001b[38;5;241m.\u001b[39mexp(\u001b[38;5;28mself\u001b[39m\u001b[38;5;241m.\u001b[39mdt \u001b[38;5;241m*\u001b[39m \u001b[38;5;28mself\u001b[39m\u001b[38;5;241m.\u001b[39mr)\n\u001b[0;32m     84\u001b[0m new_stock_value \u001b[38;5;241m=\u001b[39m stock_holding \u001b[38;5;241m*\u001b[39m S_at_t_plus_dt\n",
      "\u001b[1;31mUnboundLocalError\u001b[0m: local variable 'hedge_option_at_t' referenced before assignment"
     ]
    }
   ],
   "source": [
    "vol_model = time_varying_vol()\n",
    "\n",
    "Q1 = Hedger(S0, K, T, r, mu, n_sims, n_steps, vol_model = vol_model)\n",
    "error_Q1, price_Q1 = Q1.simulate_delta_varying_vol()\n",
    "plt.figure(0)\n",
    "plt.hist(error_Q1, bins = 50)\n",
    "\n",
    "High_steps_Q1 = Hedger(S0, K, T, r, mu, n_sims, n_steps * 100, vol_model = vol_model)\n",
    "error2, price2 = High_steps_Q1.simulate_delta_varying_vol()\n",
    "\n",
    "plt.figure(1)\n",
    "plt.hist(error_Q1, bins = 50)\n",
    "plt.hist(error2, bins = 50)"
   ]
  },
  {
   "cell_type": "code",
   "execution_count": null,
   "metadata": {},
   "outputs": [],
   "source": [
    "assert_almost_equal(np.percentile(error_Q1, q = [2.5, 97.5]), np.array([-1.39609292,  1.46532121]))"
   ]
  },
  {
   "cell_type": "code",
   "execution_count": null,
   "metadata": {},
   "outputs": [
    {
     "data": {
      "text/plain": [
       "[<matplotlib.lines.Line2D at 0x1facea42230>]"
      ]
     },
     "execution_count": 10,
     "metadata": {},
     "output_type": "execute_result"
    },
    {
     "data": {
      "image/png": "[encoded data removed]",
      "text/plain": [
       "<Figure size 432x288 with 1 Axes>"
      ]
     },
     "metadata": {
      "needs_background": "light"
     },
     "output_type": "display_data"
    }
   ],
   "source": [
    "n_points = 14\n",
    "n_steps_rme_testing = np.zeros(n_points)\n",
    "rms_error = np.zeros(n_points)\n",
    "for i in range(0, n_points):\n",
    "    n_steps_rme_testing[i] = 2 ** i + 1\n",
    "    dummy_hedger = Hedger(S0, K, T, r, mu, n_sims, int(n_steps_rme_testing[i]), vol_model = vol_model)\n",
    "    error, price = dummy_hedger.simulate_delta_varying_vol()\n",
    "    rms_error[i] = np.sqrt(np.mean(error ** 2))\n",
    "\n",
    "ax = plt.gca()\n",
    "ax.plot(np.log(n_steps_rme_testing), np.log(rms_error))"
   ]
  },
  {
   "cell_type": "markdown",
   "metadata": {},
   "source": [
    "## Q2"
   ]
  },
  {
   "cell_type": "code",
   "execution_count": null,
   "metadata": {},
   "outputs": [],
   "source": [
    "Dummy = Hedger(S0, K, T, r, mu, n_sims, n_steps, vol_model = vol_model, simulation_end_time = T/2)\n",
    "\n",
    "e, p = Dummy.simulate_delta_varying_vol()"
   ]
  },
  {
   "cell_type": "code",
   "execution_count": null,
   "metadata": {},
   "outputs": [
    {
     "data": {
      "text/plain": [
       "(array([  1.,   3.,  10.,  15.,  41.,  72., 153., 279., 439., 648., 870.,\n",
       "        835., 691., 436., 272., 135.,  65.,  20.,  10.,   5.]),\n",
       " array([-0.46057624, -0.41827499, -0.37597375, -0.33367251, -0.29137126,\n",
       "        -0.24907002, -0.20676878, -0.16446753, -0.12216629, -0.07986505,\n",
       "        -0.0375638 ,  0.00473744,  0.04703868,  0.08933993,  0.13164117,\n",
       "         0.17394241,  0.21624366,  0.2585449 ,  0.30084614,  0.34314739,\n",
       "         0.38544863]),\n",
       " <BarContainer object of 20 artists>)"
      ]
     },
     "execution_count": 12,
     "metadata": {},
     "output_type": "execute_result"
    },
    {
     "data": {
      "image/png": "[encoded data removed]",
      "text/plain": [
       "<Figure size 432x288 with 1 Axes>"
      ]
     },
     "metadata": {
      "needs_background": "light"
     },
     "output_type": "display_data"
    }
   ],
   "source": [
    "plt.hist(e, bins = 20)"
   ]
  },
  {
   "cell_type": "code",
   "execution_count": null,
   "metadata": {},
   "outputs": [],
   "source": [
    "Q2_Test = Hedger(S0, K, 0.3, r, mu, 1_000, 1_000, vol_model = vol_model, simulation_end_time = 0.15, constant_vol_assumption = True)\n",
    "Q2_test_error, Q2_price_error = Q2_Test.simulate_delta_varying_vol()\n"
   ]
  },
  {
   "cell_type": "code",
   "execution_count": null,
   "metadata": {},
   "outputs": [
    {
     "data": {
      "text/plain": [
       "(array([  1.,   0.,   0.,   0.,   0.,   0.,   0.,   1.,   0.,   0.,   0.,\n",
       "          0.,   0.,   0.,   0.,   0.,   1.,   1.,   2.,   1.,   7.,   7.,\n",
       "         13., 650., 298.,   8.,   6.,   3.,   0.,   1.]),\n",
       " array([-5.30456258e-03, -5.08313609e-03, -4.86170961e-03, -4.64028313e-03,\n",
       "        -4.41885665e-03, -4.19743017e-03, -3.97600369e-03, -3.75457721e-03,\n",
       "        -3.53315073e-03, -3.31172424e-03, -3.09029776e-03, -2.86887128e-03,\n",
       "        -2.64744480e-03, -2.42601832e-03, -2.20459184e-03, -1.98316536e-03,\n",
       "        -1.76173888e-03, -1.54031240e-03, -1.31888591e-03, -1.09745943e-03,\n",
       "        -8.76032952e-04, -6.54606471e-04, -4.33179990e-04, -2.11753508e-04,\n",
       "         9.67297278e-06,  2.31099454e-04,  4.52525935e-04,  6.73952416e-04,\n",
       "         8.95378897e-04,  1.11680538e-03,  1.33823186e-03]),\n",
       " <BarContainer object of 30 artists>)"
      ]
     },
     "execution_count": 14,
     "metadata": {},
     "output_type": "execute_result"
    },
    {
     "data": {
      "image/png": "[encoded data removed]",
      "text/plain": [
       "<Figure size 432x288 with 1 Axes>"
      ]
     },
     "metadata": {
      "needs_background": "light"
     },
     "output_type": "display_data"
    }
   ],
   "source": [
    "plt.hist(Q2_test_error, bins = 30)"
   ]
  },
  {
   "cell_type": "code",
   "execution_count": null,
   "metadata": {},
   "outputs": [],
   "source": [
    "Q2 = Hedger(S0, K, T, r, mu, 1_000, 1_000, vol_model = vol_model, simulation_end_time = T/2, constant_vol_assumption = True)\n",
    "error_Q2, price_Q2 = Q2.simulate_delta_varying_vol()\n",
    "\n"
   ]
  },
  {
   "cell_type": "code",
   "execution_count": null,
   "metadata": {},
   "outputs": [],
   "source": [
    "assert_almost_equal(np.percentile(error_Q2, q = [2.5, 97.5]), np.array([2.38401743, 4.37940813]))"
   ]
  },
  {
   "cell_type": "code",
   "execution_count": null,
   "metadata": {},
   "outputs": [
    {
     "data": {
      "text/plain": [
       "(array([ 1.,  0.,  0.,  0.,  1.,  0.,  0.,  0.,  0.,  1.,  0.,  0.,  0.,\n",
       "         0.,  0.,  0.,  0.,  1.,  0.,  1.,  1.,  2.,  2.,  3.,  4.,  2.,\n",
       "         5.,  1.,  5.,  7.,  2.,  5.,  6.,  4.,  3., 13.,  9.,  5., 11.,\n",
       "        16.,  7.,  7., 12.,  8., 17.,  9., 16., 12., 10., 11.,  6., 13.,\n",
       "        15., 18., 15., 16., 16., 23., 23., 19., 19., 14., 32., 19., 31.,\n",
       "        17., 22., 18., 22., 24., 29., 25., 25., 17., 26., 27., 22., 22.,\n",
       "        16., 17., 21., 16., 21., 18., 24., 14., 15., 12.,  9.,  8.,  3.,\n",
       "         4.,  2.,  4.,  0.,  0.,  0.,  0.,  0.,  1.]),\n",
       " array([1.46217267, 1.49506811, 1.52796355, 1.56085899, 1.59375444,\n",
       "        1.62664988, 1.65954532, 1.69244076, 1.7253362 , 1.75823165,\n",
       "        1.79112709, 1.82402253, 1.85691797, 1.88981341, 1.92270886,\n",
       "        1.9556043 , 1.98849974, 2.02139518, 2.05429062, 2.08718607,\n",
       "        2.12008151, 2.15297695, 2.18587239, 2.21876783, 2.25166328,\n",
       "        2.28455872, 2.31745416, 2.3503496 , 2.38324504, 2.41614049,\n",
       "        2.44903593, 2.48193137, 2.51482681, 2.54772226, 2.5806177 ,\n",
       "        2.61351314, 2.64640858, 2.67930402, 2.71219947, 2.74509491,\n",
       "        2.77799035, 2.81088579, 2.84378123, 2.87667668, 2.90957212,\n",
       "        2.94246756, 2.975363  , 3.00825844, 3.04115389, 3.07404933,\n",
       "        3.10694477, 3.13984021, 3.17273565, 3.2056311 , 3.23852654,\n",
       "        3.27142198, 3.30431742, 3.33721286, 3.37010831, 3.40300375,\n",
       "        3.43589919, 3.46879463, 3.50169007, 3.53458552, 3.56748096,\n",
       "        3.6003764 , 3.63327184, 3.66616728, 3.69906273, 3.73195817,\n",
       "        3.76485361, 3.79774905, 3.83064449, 3.86353994, 3.89643538,\n",
       "        3.92933082, 3.96222626, 3.9951217 , 4.02801715, 4.06091259,\n",
       "        4.09380803, 4.12670347, 4.15959891, 4.19249436, 4.2253898 ,\n",
       "        4.25828524, 4.29118068, 4.32407612, 4.35697157, 4.38986701,\n",
       "        4.42276245, 4.45565789, 4.48855333, 4.52144878, 4.55434422,\n",
       "        4.58723966, 4.6201351 , 4.65303055, 4.68592599, 4.71882143,\n",
       "        4.75171687]),\n",
       " <BarContainer object of 100 artists>)"
      ]
     },
     "execution_count": 17,
     "metadata": {},
     "output_type": "execute_result"
    },
    {
     "data": {
      "image/png": "[encoded data removed]",
      "text/plain": [
       "<Figure size 432x288 with 1 Axes>"
      ]
     },
     "metadata": {
      "needs_background": "light"
     },
     "output_type": "display_data"
    }
   ],
   "source": [
    "plt.hist(error_Q2, bins = 100)"
   ]
  },
  {
   "cell_type": "markdown",
   "metadata": {},
   "source": [
    "## Q3 "
   ]
  },
  {
   "cell_type": "code",
   "execution_count": null,
   "metadata": {},
   "outputs": [],
   "source": [
    "Q3_vol_model = time_varying_vol()\n",
    "\n",
    "def flat_vol(t):\n",
    "    return sigma1 + sigma2\n",
    "\n",
    "Q3_vol_model.time_varying_vol = flat_vol\n",
    "\n",
    "assert(Q3_vol_model.time_varying_vol(1) == sigma1 + sigma2)"
   ]
  },
  {
   "cell_type": "code",
   "execution_count": null,
   "metadata": {},
   "outputs": [
    {
     "ename": "TypeError",
     "evalue": "Hedger.__init__() missing 1 required positional argument: 'vol_model'",
     "output_type": "error",
     "traceback": [
      "\u001b[1;31m---------------------------------------------------------------------------\u001b[0m",
      "\u001b[1;31mTypeError\u001b[0m                                 Traceback (most recent call last)",
      "Input \u001b[1;32mIn [19]\u001b[0m, in \u001b[0;36m<cell line: 1>\u001b[1;34m()\u001b[0m\n\u001b[1;32m----> 1\u001b[0m Q3 \u001b[38;5;241m=\u001b[39m \u001b[43mHedger\u001b[49m\u001b[43m(\u001b[49m\u001b[43mS0\u001b[49m\u001b[43m,\u001b[49m\u001b[43m \u001b[49m\u001b[43mK\u001b[49m\u001b[43m,\u001b[49m\u001b[43m \u001b[49m\u001b[43mT\u001b[49m\u001b[43m,\u001b[49m\u001b[43m \u001b[49m\u001b[43mr\u001b[49m\u001b[43m,\u001b[49m\u001b[43m \u001b[49m\u001b[43mmu\u001b[49m\u001b[43m,\u001b[49m\u001b[43m \u001b[49m\u001b[38;5;241;43m1_000\u001b[39;49m\u001b[43m,\u001b[49m\u001b[43m \u001b[49m\u001b[38;5;241;43m1_000\u001b[39;49m\u001b[43m,\u001b[49m\u001b[43m \u001b[49m\u001b[43msimulation_end_time\u001b[49m\u001b[43m \u001b[49m\u001b[38;5;241;43m=\u001b[39;49m\u001b[43m \u001b[49m\u001b[43mT\u001b[49m\u001b[43m,\u001b[49m\u001b[43m \u001b[49m\u001b[43mconstant_vol_assumption\u001b[49m\u001b[43m \u001b[49m\u001b[38;5;241;43m=\u001b[39;49m\u001b[43m \u001b[49m\u001b[38;5;28;43;01mTrue\u001b[39;49;00m\u001b[43m,\u001b[49m\u001b[43m \u001b[49m\u001b[43mdo_gamma_hedging\u001b[49m\u001b[43m \u001b[49m\u001b[38;5;241;43m=\u001b[39;49m\u001b[43m \u001b[49m\u001b[38;5;28;43;01mTrue\u001b[39;49;00m\u001b[43m)\u001b[49m\n\u001b[0;32m      2\u001b[0m error_Q3, price_Q3 \u001b[38;5;241m=\u001b[39m Q2\u001b[38;5;241m.\u001b[39msimulate_delta_varying_vol()\n\u001b[0;32m      4\u001b[0m plt\u001b[38;5;241m.\u001b[39mfigure(\u001b[38;5;241m0\u001b[39m)\n",
      "\u001b[1;31mTypeError\u001b[0m: Hedger.__init__() missing 1 required positional argument: 'vol_model'"
     ]
    }
   ],
   "source": [
    "Q3 = Hedger(S0, K, T, r, mu, 1_000, 1_000, vol_model = Q3_vol_model, simulation_end_time = T/2, constant_vol_assumption = True, do_gamma_hedging = True)\n",
    "error_Q3, price_Q3 = Q2.simulate_delta_varying_vol()\n",
    "\n",
    "plt.figure(0)\n",
    "plt.plot(Q2.portfolio[2, :])\n",
    "plt.figure(1)\n",
    "plt.plot(Q2.paths[2, :])"
   ]
  },
  {
   "cell_type": "code",
   "execution_count": null,
   "metadata": {},
   "outputs": [],
   "source": []
  }
 ],
 "metadata": {
  "kernelspec": {
   "display_name": "Python 3",
   "language": "python",
   "name": "python3"
  },
  "language_info": {
   "codemirror_mode": {
    "name": "ipython",
    "version": 3
   },
   "file_extension": ".py",
   "mimetype": "text/x-python",
   "name": "python",
   "nbconvert_exporter": "python",
   "pygments_lexer": "ipython3",
   "version": "3.10.4"
  }
 },
 "nbformat": 4,
 "nbformat_minor": 2
}
