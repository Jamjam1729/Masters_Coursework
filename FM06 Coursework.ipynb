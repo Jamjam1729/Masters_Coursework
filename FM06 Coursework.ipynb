{
 "cells": [
  {
   "cell_type": "code",
   "execution_count": 1,
   "metadata": {},
   "outputs": [],
   "source": [
    "#Setup\n",
    "import numpy as np\n",
    "from numpy.testing import assert_almost_equal\n",
    "import scipy.integrate as integrate\n",
    "from scipy.stats import norm\n",
    "import matplotlib.pyplot as plt \n"
   ]
  },
  {
   "cell_type": "markdown",
   "metadata": {},
   "source": [
    "## Part 0 - Setup"
   ]
  },
  {
   "cell_type": "code",
   "execution_count": 108,
   "metadata": {},
   "outputs": [],
   "source": [
    "### Constants\n",
    "sigma1 = 0.11\n",
    "sigma2 = 0.13\n",
    "T = 1.7\n",
    "mu = 0.13\n",
    "r = 0.01\n",
    "S0 = 149\n",
    "time_break = 0.3\n",
    "K = 188\n",
    "KH = S0\n",
    "n_sims = 1_000\n",
    "n_steps = T * 365 #Assume time in years, this is daily time-steps"
   ]
  },
  {
   "cell_type": "code",
   "execution_count": 109,
   "metadata": {},
   "outputs": [],
   "source": [
    "### Helper Functions\n",
    "\n",
    "### Time-varying vol\n",
    "\n",
    "def time_varying_vol(t):\n",
    "    if t > time_break:\n",
    "        return sigma1 + sigma2 * (t - time_break)/(T - time_break)\n",
    "    return sigma1\n",
    "\n",
    "assert_almost_equal(np.array([time_varying_vol(0.2), time_varying_vol(0.4), time_varying_vol(0.5), time_varying_vol(T)]) ,\n",
    "                    np.array([sigma1, 0.11928571428, 0.128571429, sigma1 + sigma2]))\n",
    "\n",
    "def integrate_vol(start_time = 0, end_time = T):\n",
    "    squared_vol = lambda x: time_varying_vol(x) ** 2\n",
    "    result = integrate.quad(squared_vol, start_time, end_time)\n",
    "    return result[0]\n",
    "\n",
    "assert_almost_equal(np.array([integrate_vol(end_time = time_break), integrate_vol(0, 1), integrate_vol(start_time = 0)]),\n",
    "                    np.array([time_break * sigma1 ** 2, 0.018090833333, 0.0484766666]))\n",
    "\n",
    "### Black-Scholes\n",
    "\n",
    "def get_d1_and_d2(S, t, K, T, r, sigma):\n",
    "    tau = T - t\n",
    "    d1 = 1/(sigma * np.sqrt(tau)) * (np.log(S/K) + (r + sigma ** 2 / 2) * tau)    \n",
    "    d2 = d1 - sigma * np.sqrt(tau)\n",
    "    return d1, d2\n",
    "\n",
    "\n",
    "def black_scholes_call_price(S, t, K, T, r,sigma):\n",
    "    d1, d2 = get_d1_and_d2(S, t, K, T, r, sigma)\n",
    "    return S * norm.cdf(d1) - K * np.exp(-r * T) * norm.cdf(d2)\n",
    "\n",
    "def black_scholes_put_price(S,t, K,T,r,sigma):\n",
    "    d1, d2 = get_d1_and_d2(S, t, K, T, r, sigma)\n",
    "    return  K * np.exp(-r * T) * norm.cdf( -d2) - S * norm.cdf(-d1) \n",
    "\n",
    "def black_scholes_call_delta(S, t, K, T, r,sigma):\n",
    "    d1, d2 = get_d1_and_d2(S, t, K, T, r, sigma)\n",
    "    return norm.cdf(d1)\n",
    "\n",
    "def black_scholes_put_delta(S, t, K, T, r,sigma):\n",
    "    d1, d2 = get_d1_and_d2(S, t, K, T, r, sigma)\n",
    "    return -1 * norm.cdf(-1 * d1)\n",
    "\n",
    "def black_scholes_gamma(S, t, K, T, r,sigma):\n",
    "    #same for a call and put\n",
    "    d1, d2 = get_d1_and_d2(S, t, K, T, r, sigma)\n",
    "    return norm.pdf(d1)/(S * sigma * np.sqrt(T - t))\n",
    "\n",
    "\n",
    "assert_almost_equal(black_scholes_call_price(100,0,  100, 1, 0.01, 0.2), 8.43332, decimal = 5)\n",
    "assert_almost_equal(black_scholes_call_delta(100,0, 100, 1, 0.01, 0.2), 0.55962, decimal = 5)\n",
    "assert_almost_equal(black_scholes_gamma(100,0, 100, 1, 0.01, 0.2), 0.01972, decimal = 5)\n",
    "assert_almost_equal(black_scholes_put_price(100,0, 100, 1, 0.01, 0.2), 7.43831, decimal = 5)\n",
    "assert_almost_equal(black_scholes_put_delta(100,0, 100, 1, 0.01, 0.2), -0.44038, decimal = 5)\n",
    "assert_almost_equal(black_scholes_gamma(100,0, 100, 1, 0.01, 0.2), 0.01972, decimal = 5)\n"
   ]
  },
  {
   "cell_type": "markdown",
   "metadata": {},
   "source": [
    "## Q1 - Delta Hedging"
   ]
  },
  {
   "cell_type": "code",
   "execution_count": 110,
   "metadata": {},
   "outputs": [],
   "source": [
    "def simulate_gbm_paths(S0, mu, sigma, T, n_steps, n_paths):\n",
    "    rng = np.random.default_rng(seed = 42)\n",
    "    paths = np.zeros([n_paths, n_steps + 1])\n",
    "    dt = T / n_steps\n",
    "    paths[:, 0] = S0\n",
    "    times = np.linspace(0, T, n_steps + 1)\n",
    "\n",
    "    epsilon = rng.normal(size = [n_paths, n_steps])\n",
    "\n",
    "    for i in range(0, n_steps):\n",
    "        paths[:, i  +1] = paths[:, i] + paths[:, i] * mu * dt + paths[:, i] * sigma * np.sqrt(dt) * epsilon[:, i]\n",
    "\n",
    "    return paths, times\n",
    "\n",
    "def call_delta_hedging( S0, K, T, r, mu, sigma, n_steps, n_paths):\n",
    "\n",
    "    S, times = simulate_gbm_paths(S0,mu,sigma,T,n_steps,n_paths)\n",
    "    portfolio = np.zeros(S.shape)\n",
    "    t=times[0]\n",
    "    V = black_scholes_call_price(S0,0,K,T,r,sigma)\n",
    "    portfolio[:,0] = V\n",
    "    dt = T/n_steps \n",
    "    for i in range(0,len(times)-1):\n",
    "        t = times[i]\n",
    "        S_t=S[:,i]\n",
    "        q_t = black_scholes_call_delta(S_t,t,K,T,r,sigma)\n",
    "        B_t = portfolio[:,i]-q_t*S_t\n",
    "        B_with_interest = B_t*np.exp(dt*r)\n",
    "        S_tplusdt=S[:,i+1]\n",
    "        new_stock_value=q_t*S_tplusdt\n",
    "        portfolio[:,i+1]=B_with_interest+new_stock_value\n",
    "\n",
    "    S_T = S[:,-1]\n",
    "    final_balance = portfolio[:,-1]\n",
    "    error = final_balance - np.maximum(S_T - K,0)\n",
    "    return error\n",
    "\n",
    "S0_dummy = 100\n",
    "K_dummy = 100\n",
    "T_dummy = 1\n",
    "sigma_dummy = 0.2\n",
    "mu_dummy = 0.08\n",
    "r_dummy = 0.02\n",
    "n_steps_dummy = 365\n",
    "n_paths_dummy = 500\n",
    "\n",
    "err = call_delta_hedging(S0_dummy, K_dummy, T_dummy, r_dummy, mu_dummy, sigma_dummy, n_steps_dummy, n_paths_dummy)\n"
   ]
  },
  {
   "cell_type": "code",
   "execution_count": 111,
   "metadata": {},
   "outputs": [
    {
     "data": {
      "text/plain": [
       "(array([  3.,   7.,  15.,  45., 143., 183.,  72.,  20.,  10.,   2.]),\n",
       " array([-1.40211909, -1.13623939, -0.87035969, -0.60447999, -0.33860029,\n",
       "        -0.07272059,  0.19315911,  0.45903881,  0.72491851,  0.9907982 ,\n",
       "         1.2566779 ]),\n",
       " <BarContainer object of 10 artists>)"
      ]
     },
     "execution_count": 111,
     "metadata": {},
     "output_type": "execute_result"
    },
    {
     "data": {
      "image/png": "[encoded data removed]",
      "text/plain": [
       "<Figure size 432x288 with 1 Axes>"
      ]
     },
     "metadata": {
      "needs_background": "light"
     },
     "output_type": "display_data"
    }
   ],
   "source": [
    "plt.hist(err)"
   ]
  },
  {
   "cell_type": "code",
   "execution_count": 112,
   "metadata": {},
   "outputs": [],
   "source": [
    "def simulate_gbm(S0, mu, T, n_sims, n_steps):\n",
    "    \n",
    "    rng = np.random.default_rng(seed = 42)\n",
    "    paths = np.zeros([n_sims, n_steps + 1])\n",
    "    dt = T / n_steps\n",
    "    paths[:, 0] = S0\n",
    "\n",
    "    times = np.linspace(0, T, n_steps + 1)\n",
    "\n",
    "    epsilon = rng.normal(size = [n_sims, n_steps])\n",
    "    \n",
    "    for i in range(0, n_steps):\n",
    "        #Euler-Maruyama Scheme\n",
    "        paths[:, i + 1] = paths[:, i] + paths[:, i] * mu * dt + paths[:, i] * time_varying_vol(times[i]) * np.sqrt(dt) * epsilon[:, i]\n",
    "                                               \n",
    "    return paths, times\n",
    "\n",
    "def simulate_delta_varying_vol(S0, K, T, r, mu, n_sims, n_steps):\n",
    "    \n",
    "    \"\"\" int_vol = np.sqrt(1 / T * integrate_vol(end_time = T)) \"\"\"\n",
    "    int_vol = np.sqrt(integrate_vol(end_time = T))\n",
    "    paths, times = simulate_gbm(S0, mu, T, n_sims, n_steps)\n",
    "    \"\"\" V = black_scholes_call_price(S0, 0, K, T, r, int_vol) \"\"\"\n",
    "    V = black_scholes_call_price(S0, 0, K, 1, r, int_vol)\n",
    "\n",
    "    portfolio = np.zeros(paths.shape)\n",
    "    portfolio[:, 0] = V\n",
    "    t = times[0]\n",
    "    dt = T / n_steps\n",
    "\n",
    "    for i in range(0, len(times) - 1):\n",
    "        t = times[i]\n",
    "    \n",
    "        S_at_time_t = paths[:, i] \n",
    "        S_at_t_plus_dt = paths[:, i+1]\n",
    "\n",
    "        \"\"\" vol_t = np.sqrt(1 / (T - t) * integrate_vol(start_time = t, end_time = T)) \"\"\"\n",
    "        \"\"\" delta_t = black_scholes_call_delta(S_at_time_t, t, K, T, r, vol_t) \"\"\"\n",
    "        vol_t = np.sqrt(integrate_vol(start_time = t, end_time = T))\n",
    "        delta_t = black_scholes_call_delta(S_at_time_t, 0, K, 1, r, vol_t)\n",
    "        bank_at_t = portfolio[:, i] - delta_t * S_at_time_t \n",
    "        \n",
    "        bank_at_t_plus_dt = bank_at_t * np.exp(dt * r)\n",
    "        new_stock_value = delta_t * S_at_t_plus_dt\n",
    "\n",
    "        portfolio[:, i + 1] = bank_at_t_plus_dt + new_stock_value\n",
    "\n",
    "    S_T = paths[:, -1]\n",
    "    \n",
    "    final_portfolio = portfolio[:, -1]\n",
    "    error = final_portfolio - np.maximum(S_T - K, 0)\n",
    "    return error\n",
    "\n"
   ]
  },
  {
   "cell_type": "code",
   "execution_count": 113,
   "metadata": {},
   "outputs": [
    {
     "ename": "TypeError",
     "evalue": "'float' object cannot be interpreted as an integer",
     "output_type": "error",
     "traceback": [
      "\u001b[1;31m---------------------------------------------------------------------------\u001b[0m",
      "\u001b[1;31mTypeError\u001b[0m                                 Traceback (most recent call last)",
      "\u001b[1;32mc:\\Users\\jamma\\Masters\\FM06 Coursework.ipynb Cell 9\u001b[0m line \u001b[0;36m<cell line: 1>\u001b[1;34m()\u001b[0m\n\u001b[1;32m----> <a href='vscode-notebook-cell:/c%3A/Users/jamma/Masters/FM06%20Coursework.ipynb#Y141sZmlsZQ%3D%3D?line=0'>1</a>\u001b[0m error \u001b[39m=\u001b[39m simulate_delta_varying_vol(S0, K, T, r, mu, n_sims,  n_steps)\n",
      "\u001b[1;32mc:\\Users\\jamma\\Masters\\FM06 Coursework.ipynb Cell 9\u001b[0m line \u001b[0;36msimulate_delta_varying_vol\u001b[1;34m(S0, K, T, r, mu, n_sims, n_steps)\u001b[0m\n\u001b[0;32m     <a href='vscode-notebook-cell:/c%3A/Users/jamma/Masters/FM06%20Coursework.ipynb#Y141sZmlsZQ%3D%3D?line=19'>20</a>\u001b[0m \u001b[39m\"\"\" int_vol = np.sqrt(1 / T * integrate_vol(end_time = T)) \"\"\"\u001b[39;00m\n\u001b[0;32m     <a href='vscode-notebook-cell:/c%3A/Users/jamma/Masters/FM06%20Coursework.ipynb#Y141sZmlsZQ%3D%3D?line=20'>21</a>\u001b[0m int_vol \u001b[39m=\u001b[39m np\u001b[39m.\u001b[39msqrt(integrate_vol(end_time \u001b[39m=\u001b[39m T))\n\u001b[1;32m---> <a href='vscode-notebook-cell:/c%3A/Users/jamma/Masters/FM06%20Coursework.ipynb#Y141sZmlsZQ%3D%3D?line=21'>22</a>\u001b[0m paths, times \u001b[39m=\u001b[39m simulate_gbm(S0, mu, T, n_sims, n_steps)\n\u001b[0;32m     <a href='vscode-notebook-cell:/c%3A/Users/jamma/Masters/FM06%20Coursework.ipynb#Y141sZmlsZQ%3D%3D?line=22'>23</a>\u001b[0m \u001b[39m\"\"\" V = black_scholes_call_price(S0, 0, K, T, r, int_vol) \"\"\"\u001b[39;00m\n\u001b[0;32m     <a href='vscode-notebook-cell:/c%3A/Users/jamma/Masters/FM06%20Coursework.ipynb#Y141sZmlsZQ%3D%3D?line=23'>24</a>\u001b[0m V \u001b[39m=\u001b[39m black_scholes_call_price(S0, \u001b[39m0\u001b[39m, K, \u001b[39m1\u001b[39m, r, int_vol)\n",
      "\u001b[1;32mc:\\Users\\jamma\\Masters\\FM06 Coursework.ipynb Cell 9\u001b[0m line \u001b[0;36msimulate_gbm\u001b[1;34m(S0, mu, T, n_sims, n_steps)\u001b[0m\n\u001b[0;32m      <a href='vscode-notebook-cell:/c%3A/Users/jamma/Masters/FM06%20Coursework.ipynb#Y141sZmlsZQ%3D%3D?line=0'>1</a>\u001b[0m \u001b[39mdef\u001b[39;00m \u001b[39msimulate_gbm\u001b[39m(S0, mu, T, n_sims, n_steps):\n\u001b[0;32m      <a href='vscode-notebook-cell:/c%3A/Users/jamma/Masters/FM06%20Coursework.ipynb#Y141sZmlsZQ%3D%3D?line=2'>3</a>\u001b[0m     rng \u001b[39m=\u001b[39m np\u001b[39m.\u001b[39mrandom\u001b[39m.\u001b[39mdefault_rng(seed \u001b[39m=\u001b[39m \u001b[39m42\u001b[39m)\n\u001b[1;32m----> <a href='vscode-notebook-cell:/c%3A/Users/jamma/Masters/FM06%20Coursework.ipynb#Y141sZmlsZQ%3D%3D?line=3'>4</a>\u001b[0m     paths \u001b[39m=\u001b[39m np\u001b[39m.\u001b[39;49mzeros([n_sims, n_steps \u001b[39m+\u001b[39;49m \u001b[39m1\u001b[39;49m])\n\u001b[0;32m      <a href='vscode-notebook-cell:/c%3A/Users/jamma/Masters/FM06%20Coursework.ipynb#Y141sZmlsZQ%3D%3D?line=4'>5</a>\u001b[0m     dt \u001b[39m=\u001b[39m T \u001b[39m/\u001b[39m n_steps\n\u001b[0;32m      <a href='vscode-notebook-cell:/c%3A/Users/jamma/Masters/FM06%20Coursework.ipynb#Y141sZmlsZQ%3D%3D?line=5'>6</a>\u001b[0m     paths[:, \u001b[39m0\u001b[39m] \u001b[39m=\u001b[39m S0\n",
      "\u001b[1;31mTypeError\u001b[0m: 'float' object cannot be interpreted as an integer"
     ]
    }
   ],
   "source": [
    "error = simulate_delta_varying_vol(S0, K, T, r, mu, n_sims,  n_steps)\n"
   ]
  },
  {
   "cell_type": "code",
   "execution_count": null,
   "metadata": {},
   "outputs": [],
   "source": []
  },
  {
   "cell_type": "code",
   "execution_count": 106,
   "metadata": {},
   "outputs": [
    {
     "data": {
      "text/plain": [
       "(array([  1.,  12.,  42., 149., 465., 230.,  68.,  24.,   6.,   3.]),\n",
       " array([-4.42761313, -3.49051809, -2.55342305, -1.616328  , -0.67923296,\n",
       "         0.25786208,  1.19495712,  2.13205217,  3.06914721,  4.00624225,\n",
       "         4.9433373 ]),\n",
       " <BarContainer object of 10 artists>)"
      ]
     },
     "execution_count": 106,
     "metadata": {},
     "output_type": "execute_result"
    },
    {
     "data": {
      "image/png": "[encoded data removed]",
      "text/plain": [
       "<Figure size 432x288 with 1 Axes>"
      ]
     },
     "metadata": {
      "needs_background": "light"
     },
     "output_type": "display_data"
    }
   ],
   "source": [
    "plt.hist(error)"
   ]
  },
  {
   "cell_type": "code",
   "execution_count": 107,
   "metadata": {},
   "outputs": [
    {
     "ename": "TypeError",
     "evalue": "'float' object cannot be interpreted as an integer",
     "output_type": "error",
     "traceback": [
      "\u001b[1;31m---------------------------------------------------------------------------\u001b[0m",
      "\u001b[1;31mTypeError\u001b[0m                                 Traceback (most recent call last)",
      "\u001b[1;32mc:\\Users\\jamma\\Masters\\FM06 Coursework.ipynb Cell 11\u001b[0m line \u001b[0;36m<cell line: 1>\u001b[1;34m()\u001b[0m\n\u001b[1;32m----> <a href='vscode-notebook-cell:/c%3A/Users/jamma/Masters/FM06%20Coursework.ipynb#Y143sZmlsZQ%3D%3D?line=0'>1</a>\u001b[0m error1 \u001b[39m=\u001b[39m simulate_delta_varying_vol(S0, K, T, r, mu, n_sims, n_steps)\n\u001b[0;32m      <a href='vscode-notebook-cell:/c%3A/Users/jamma/Masters/FM06%20Coursework.ipynb#Y143sZmlsZQ%3D%3D?line=1'>2</a>\u001b[0m error2 \u001b[39m=\u001b[39m simulate_delta_varying_vol(S0, K, T, r, mu, n_sims, \u001b[39m100\u001b[39m \u001b[39m*\u001b[39m n_steps)\n\u001b[0;32m      <a href='vscode-notebook-cell:/c%3A/Users/jamma/Masters/FM06%20Coursework.ipynb#Y143sZmlsZQ%3D%3D?line=3'>4</a>\u001b[0m plt\u001b[39m.\u001b[39mhist(error1)\n",
      "\u001b[1;32mc:\\Users\\jamma\\Masters\\FM06 Coursework.ipynb Cell 11\u001b[0m line \u001b[0;36msimulate_delta_varying_vol\u001b[1;34m(S0, K, T, r, mu, n_sims, n_steps)\u001b[0m\n\u001b[0;32m     <a href='vscode-notebook-cell:/c%3A/Users/jamma/Masters/FM06%20Coursework.ipynb#Y143sZmlsZQ%3D%3D?line=19'>20</a>\u001b[0m \u001b[39m\"\"\" int_vol = np.sqrt(1 / T * integrate_vol(end_time = T)) \"\"\"\u001b[39;00m\n\u001b[0;32m     <a href='vscode-notebook-cell:/c%3A/Users/jamma/Masters/FM06%20Coursework.ipynb#Y143sZmlsZQ%3D%3D?line=20'>21</a>\u001b[0m int_vol \u001b[39m=\u001b[39m np\u001b[39m.\u001b[39msqrt(integrate_vol(end_time \u001b[39m=\u001b[39m T))\n\u001b[1;32m---> <a href='vscode-notebook-cell:/c%3A/Users/jamma/Masters/FM06%20Coursework.ipynb#Y143sZmlsZQ%3D%3D?line=21'>22</a>\u001b[0m paths, times \u001b[39m=\u001b[39m simulate_gbm(S0, mu, T, n_sims, n_steps)\n\u001b[0;32m     <a href='vscode-notebook-cell:/c%3A/Users/jamma/Masters/FM06%20Coursework.ipynb#Y143sZmlsZQ%3D%3D?line=22'>23</a>\u001b[0m \u001b[39m\"\"\" V = black_scholes_call_price(S0, 0, K, T, r, int_vol) \"\"\"\u001b[39;00m\n\u001b[0;32m     <a href='vscode-notebook-cell:/c%3A/Users/jamma/Masters/FM06%20Coursework.ipynb#Y143sZmlsZQ%3D%3D?line=23'>24</a>\u001b[0m V \u001b[39m=\u001b[39m black_scholes_call_price(S0, \u001b[39m0\u001b[39m, K, \u001b[39m1\u001b[39m, r, int_vol)\n",
      "\u001b[1;32mc:\\Users\\jamma\\Masters\\FM06 Coursework.ipynb Cell 11\u001b[0m line \u001b[0;36msimulate_gbm\u001b[1;34m(S0, mu, T, n_sims, n_steps)\u001b[0m\n\u001b[0;32m      <a href='vscode-notebook-cell:/c%3A/Users/jamma/Masters/FM06%20Coursework.ipynb#Y143sZmlsZQ%3D%3D?line=0'>1</a>\u001b[0m \u001b[39mdef\u001b[39;00m \u001b[39msimulate_gbm\u001b[39m(S0, mu, T, n_sims, n_steps):\n\u001b[0;32m      <a href='vscode-notebook-cell:/c%3A/Users/jamma/Masters/FM06%20Coursework.ipynb#Y143sZmlsZQ%3D%3D?line=2'>3</a>\u001b[0m     rng \u001b[39m=\u001b[39m np\u001b[39m.\u001b[39mrandom\u001b[39m.\u001b[39mdefault_rng(seed \u001b[39m=\u001b[39m \u001b[39m42\u001b[39m)\n\u001b[1;32m----> <a href='vscode-notebook-cell:/c%3A/Users/jamma/Masters/FM06%20Coursework.ipynb#Y143sZmlsZQ%3D%3D?line=3'>4</a>\u001b[0m     paths \u001b[39m=\u001b[39m np\u001b[39m.\u001b[39;49mzeros([n_sims, n_steps \u001b[39m+\u001b[39;49m \u001b[39m1\u001b[39;49m])\n\u001b[0;32m      <a href='vscode-notebook-cell:/c%3A/Users/jamma/Masters/FM06%20Coursework.ipynb#Y143sZmlsZQ%3D%3D?line=4'>5</a>\u001b[0m     dt \u001b[39m=\u001b[39m T \u001b[39m/\u001b[39m n_steps\n\u001b[0;32m      <a href='vscode-notebook-cell:/c%3A/Users/jamma/Masters/FM06%20Coursework.ipynb#Y143sZmlsZQ%3D%3D?line=5'>6</a>\u001b[0m     paths[:, \u001b[39m0\u001b[39m] \u001b[39m=\u001b[39m S0\n",
      "\u001b[1;31mTypeError\u001b[0m: 'float' object cannot be interpreted as an integer"
     ]
    }
   ],
   "source": [
    "error1 = simulate_delta_varying_vol(S0, K, T, r, mu, n_sims, n_steps)\n",
    "error2 = simulate_delta_varying_vol(S0, K, T, r, mu, n_sims, 100 * n_steps)\n",
    "\n",
    "plt.hist(error1)\n",
    "plt.hist(error2)\n"
   ]
  },
  {
   "cell_type": "code",
   "execution_count": 84,
   "metadata": {},
   "outputs": [
    {
     "data": {
      "text/plain": [
       "[<matplotlib.lines.Line2D at 0x1cd057d9360>]"
      ]
     },
     "execution_count": 84,
     "metadata": {},
     "output_type": "execute_result"
    },
    {
     "data": {
      "image/png": "[encoded data removed]",
      "text/plain": [
       "<Figure size 432x288 with 1 Axes>"
      ]
     },
     "metadata": {
      "needs_background": "light"
     },
     "output_type": "display_data"
    }
   ],
   "source": [
    "n_points = 17\n",
    "n_steps_rme_testing = np.zeros(n_points)\n",
    "rms_error = np.zeros(n_points)\n",
    "for i in range(0, n_points):\n",
    "    n_steps_rme_testing[i] = 2 ** i + 1\n",
    "    error = simulate_delta_varying_vol(S0, K, T, r,  mu, n_sims, int(n_steps_rme_testing[i]))\n",
    "    rms_error[i] = np.sqrt(np.mean(error ** 2))\n",
    "\n",
    "ax = plt.gca()\n",
    "ax.plot(np.log(n_steps_rme_testing), np.log(rms_error))\n",
    "\n"
   ]
  },
  {
   "cell_type": "code",
   "execution_count": 46,
   "metadata": {},
   "outputs": [
    {
     "name": "stdout",
     "output_type": "stream",
     "text": [
      "0.1748150755215221\n"
     ]
    }
   ],
   "source": [
    "int_vol1 = np.sqrt(1 / T * integrate_vol(end_time = T))\n",
    "int_vol2 = np.sqrt(integrate_vol(end_time = T))\n",
    "\n",
    "\n",
    "V1 = black_scholes_call_price(S0, 0, K, T, r, int_vol1)\n",
    "V2 = black_scholes_call_price(S0, 0, K, 1, r, int_vol2)\n",
    "\n",
    "print(V1 - V2)"
   ]
  },
  {
   "cell_type": "code",
   "execution_count": 12,
   "metadata": {},
   "outputs": [
    {
     "data": {
      "text/plain": [
       "3.1573080857906497"
      ]
     },
     "execution_count": 12,
     "metadata": {},
     "output_type": "execute_result"
    }
   ],
   "source": [
    "V1"
   ]
  },
  {
   "cell_type": "code",
   "execution_count": 13,
   "metadata": {},
   "outputs": [
    {
     "data": {
      "text/plain": [
       "2.9824930102691276"
      ]
     },
     "execution_count": 13,
     "metadata": {},
     "output_type": "execute_result"
    }
   ],
   "source": [
    "V2"
   ]
  },
  {
   "cell_type": "code",
   "execution_count": null,
   "metadata": {},
   "outputs": [],
   "source": []
  }
 ],
 "metadata": {
  "kernelspec": {
   "display_name": "Python 3",
   "language": "python",
   "name": "python3"
  },
  "language_info": {
   "codemirror_mode": {
    "name": "ipython",
    "version": 3
   },
   "file_extension": ".py",
   "mimetype": "text/x-python",
   "name": "python",
   "nbconvert_exporter": "python",
   "pygments_lexer": "ipython3",
   "version": "3.10.4"
  }
 },
 "nbformat": 4,
 "nbformat_minor": 2
}
