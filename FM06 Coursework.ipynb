{
 "cells": [
  {
   "cell_type": "code",
   "execution_count": 6,
   "metadata": {},
   "outputs": [],
   "source": [
    "#Setup\n",
    "import numpy as np\n",
    "from numpy.testing import assert_almost_equal\n",
    "import scipy.integrate as integrate\n",
    "from scipy.stats import norm\n",
    "import matplotlib.pyplot as plt \n"
   ]
  },
  {
   "cell_type": "markdown",
   "metadata": {},
   "source": [
    "## Part 0 - Setup"
   ]
  },
  {
   "cell_type": "code",
   "execution_count": 7,
   "metadata": {},
   "outputs": [],
   "source": [
    "### Constants\n",
    "sigma1 = 0.11\n",
    "sigma2 = 0.13\n",
    "T = 1.7\n",
    "sim_end_time = T #This is true in Q1, not later on\n",
    "mu = 0.13\n",
    "r = 0.01\n",
    "S0 = 149\n",
    "time_break = 0.3\n",
    "K = 188\n",
    "KH = S0\n",
    "n_sims = 5_000 #default value, overwritten later\n",
    "n_steps = int(T * 365) #Assume time in years, this is daily time-steps"
   ]
  },
  {
   "cell_type": "code",
   "execution_count": 8,
   "metadata": {},
   "outputs": [],
   "source": [
    "### Helper Functions\n",
    "\n",
    "### Time-varying vol\n",
    "\n",
    "def time_varying_vol(t):\n",
    "    if t > time_break:\n",
    "        return sigma1 + sigma2 * (t - time_break)/(T - time_break)\n",
    "    return sigma1\n",
    "\n",
    "assert_almost_equal(np.array([time_varying_vol(0.2), time_varying_vol(0.4), time_varying_vol(0.5), time_varying_vol(T)]) ,\n",
    "                    np.array([sigma1, 0.11928571428, 0.128571429, sigma1 + sigma2]))\n",
    "\n",
    "def integrate_vol(start_time = 0, end_time = T):\n",
    "    squared_vol = lambda x: time_varying_vol(x) ** 2\n",
    "    result = integrate.quad(squared_vol, start_time, end_time)\n",
    "    return result[0]\n",
    "\n",
    "assert_almost_equal(np.array([integrate_vol(end_time = time_break), integrate_vol(0, 1), integrate_vol(start_time = 0)]),\n",
    "                    np.array([time_break * sigma1 ** 2, 0.018090833333, 0.0484766666]))\n",
    "\n",
    "### Black-Scholes\n",
    "\n",
    "def get_d1_and_d2(S, t, K, T, r, sigma):\n",
    "    tau = T - t\n",
    "    d1 = 1/(sigma * np.sqrt(tau)) * (np.log(S/K) + (r + sigma ** 2 / 2) * tau)    \n",
    "    d2 = d1 - sigma * np.sqrt(tau)\n",
    "    return d1, d2\n",
    "\n",
    "def black_scholes_call_price(S, t, K, T, r,sigma):\n",
    "    d1, d2 = get_d1_and_d2(S, t, K, T, r, sigma)\n",
    "    return S * norm.cdf(d1) - K * np.exp(-r * (T- t)) * norm.cdf(d2)\n",
    "\n",
    "def black_scholes_put_price(S,t, K,T,r,sigma):\n",
    "    d1, d2 = get_d1_and_d2(S, t, K, T, r, sigma)\n",
    "    return  K * np.exp(-r * (T - t)) * norm.cdf( -d2) - S * norm.cdf(-d1) \n",
    "\n",
    "def black_scholes_call_delta(S, t, K, T, r,sigma):\n",
    "    d1, d2 = get_d1_and_d2(S, t, K, T, r, sigma)\n",
    "    return norm.cdf(d1)\n",
    "\n",
    "def black_scholes_put_delta(S, t, K, T, r,sigma):\n",
    "    d1, d2 = get_d1_and_d2(S, t, K, T, r, sigma)\n",
    "    return -1 * norm.cdf(-1 * d1)\n",
    "\n",
    "def black_scholes_gamma(S, t, K, T, r,sigma):\n",
    "    #same for a call and put\n",
    "    d1, d2 = get_d1_and_d2(S, t, K, T, r, sigma)\n",
    "    return norm.pdf(d1)/(S * sigma * np.sqrt(T - t))\n",
    "\n",
    "\n",
    "assert_almost_equal(black_scholes_call_price(100,0,  100, 1, 0.01, 0.2), 8.43332, decimal = 5)\n",
    "assert_almost_equal(black_scholes_call_price(100,0.99,  95, 1, 0.01, 0.2), 5.01264, decimal = 5)\n",
    "assert_almost_equal(black_scholes_put_price(100,0, 100, 1, 0.01, 0.2), 7.43831, decimal = 5)\n",
    "assert_almost_equal(black_scholes_put_price(100,0.99,  95, 1, 0.01, 0.2), 0.00314, decimal = 5)\n",
    "\n",
    "assert_almost_equal(black_scholes_call_delta(100,0, 100, 1, 0.01, 0.2), 0.55962, decimal = 5)\n",
    "assert_almost_equal(black_scholes_call_delta(100,0.99,  95, 1, 0.01, 0.2), 0.99506, decimal = 5)\n",
    "assert_almost_equal(black_scholes_put_delta(100,0, 100, 1, 0.01, 0.2), -0.44038, decimal = 5)\n",
    "assert_almost_equal(black_scholes_put_delta(100,0.99, 95, 1, 0.01, 0.2), -0.00494, decimal = 5)\n",
    "\n",
    "\n",
    "assert_almost_equal(black_scholes_gamma(100,0, 100, 1, 0.01, 0.2), 0.01972, decimal = 5)\n",
    "assert_almost_equal(black_scholes_gamma(100,0.99, 95, 1, 0.01, 0.2), 0.00716, decimal = 5)\n",
    "\n",
    "\n"
   ]
  },
  {
   "cell_type": "markdown",
   "metadata": {},
   "source": [
    "## Q1 - Delta Hedging"
   ]
  },
  {
   "cell_type": "code",
   "execution_count": 9,
   "metadata": {},
   "outputs": [],
   "source": [
    "class Hedger:\n",
    "    def __init__(self, S0, K, T, r, mu, n_sims, n_steps,simulation_end_time = None, constant_vol_assumption = False, do_gamma_hedging = False):\n",
    "        \n",
    "        #Inputs\n",
    "        self.S0 = S0\n",
    "        self.K = K\n",
    "        self.T = T\n",
    "        self.r = r\n",
    "        self.mu = mu\n",
    "        self.constant_vol_assumption = constant_vol_assumption\n",
    "        self.n_sims = n_sims\n",
    "        self.n_steps = n_steps\n",
    "\n",
    "        if simulation_end_time is not None:\n",
    "            self.simulation_end_time = simulation_end_time\n",
    "        else:\n",
    "            if constant_vol_assumption:\n",
    "                self.simulation_end_time = T / 2 #All questions with constant vol only simulate to time T/2\n",
    "            else:\n",
    "                self.simulation_end_time = T\n",
    "\n",
    "        self.do_gamma_hedging = do_gamma_hedging\n",
    "\n",
    "        #Derived\n",
    "        self.simulation_setup()\n",
    "\n",
    "        #Always need paths and payoffs, so do this now\n",
    "        self.simulate_gbm()\n",
    "        self.get_call_prices()\n",
    "    \n",
    "    def simulation_setup(self):\n",
    "        self.dt = self.simulation_end_time / self.n_steps\n",
    "        self.rng = np.random.default_rng(seed = 42) #For reproducibility\n",
    "        \n",
    "        if self.constant_vol_assumption:\n",
    "            self.full_period_vol = time_varying_vol(self.T)\n",
    "        else:\n",
    "            self.full_period_vol = np.sqrt(1 / self.T * integrate_vol(end_time = self.T))\n",
    "    \n",
    "        self.initial_price = black_scholes_call_price(self.S0, 0, self.K, self.T, self.r, self.full_period_vol)\n",
    "\n",
    "    def simulate_gbm(self):\n",
    "        \n",
    "        self.times = np.linspace(0, self.simulation_end_time, self.n_steps + 1)\n",
    "        epsilon = self.rng.normal(size = [self.n_sims, self.n_steps])\n",
    "        \n",
    "        paths = np.zeros([self.n_sims, self.n_steps + 1])\n",
    "        paths[:, 0] = self.S0\n",
    "\n",
    "        for i in range(0, self.n_steps):\n",
    "            #Euler-Maruyama Scheme\n",
    "            paths[:, i + 1] = paths[:, i] + paths[:, i] * self.mu * self.dt + paths[:, i] * time_varying_vol(self.times[i]) * np.sqrt(self.dt) * epsilon[:, i]\n",
    "        \n",
    "        self.paths = paths\n",
    "\n",
    "    def get_call_prices(self):\n",
    "        \n",
    "        S_T = self.paths[:, -1]\n",
    "        if self.simulation_end_time == self.T:\n",
    "            self.call_prices = np.maximum(S_T - self.K, 0)\n",
    "        elif self.constant_vol_assumption:\n",
    "            self.call_prices = black_scholes_call_price(S_T, self.simulation_end_time, self.K, self.T, self.r, time_varying_vol(self.T))\n",
    "        else:\n",
    "            int_vol = np.sqrt(1 / (self.T - self.simulation_end_time) * integrate_vol(start_time = self.simulation_end_time, end_time = self.T))\n",
    "            self.call_prices = black_scholes_call_price(S_T, self.simulation_end_time, self.K, self.T, self.r, int_vol)                  \n",
    "\n",
    "    def simulate_delta_varying_vol(self):\n",
    "\n",
    "        portfolio = np.zeros(self.paths.shape)\n",
    "        portfolio[:, 0] = self.initial_price\n",
    "\n",
    "        for i in range(0, len(self.times) - 1):\n",
    "            t = self.times[i]\n",
    "        \n",
    "            S_at_t = self.paths[:, i] \n",
    "            S_at_t_plus_dt = self.paths[:, i+1]\n",
    "\n",
    "            if self.constant_vol_assumption:\n",
    "                vol_t = time_varying_vol(self.T)\n",
    "            else:\n",
    "                vol_t = np.sqrt(1 / (T - t) * integrate_vol(start_time = t, end_time = T))\n",
    "\n",
    "            delta_t = black_scholes_call_delta(S_at_t, t, K, T, r, vol_t)\n",
    "\n",
    "            bank_at_t = portfolio[:, i] - delta_t * S_at_t \n",
    "            \n",
    "            bank_at_t_plus_dt = bank_at_t * np.exp(self.dt * self.r)\n",
    "            new_stock_value = delta_t * S_at_t_plus_dt\n",
    "\n",
    "            portfolio[:, i + 1] = bank_at_t_plus_dt + new_stock_value\n",
    "\n",
    "        self.portfolio = portfolio\n",
    "        \n",
    "        final_portfolio = portfolio[:, -1]\n",
    "        error = final_portfolio - self.call_prices\n",
    "        return error, self.initial_price\n",
    "                                                \n",
    "        \n"
   ]
  },
  {
   "cell_type": "code",
   "execution_count": 10,
   "metadata": {},
   "outputs": [
    {
     "data": {
      "text/plain": [
       "(array([   3.,    2.,    5.,    8.,   18.,   36.,   92.,  197.,  421.,\n",
       "         898., 1729.,  857.,  373.,  191.,   81.,   49.,   22.,    9.,\n",
       "           4.,    5.]),\n",
       " array([-0.40357168, -0.36501452, -0.32645735, -0.28790018, -0.24934301,\n",
       "        -0.21078584, -0.17222867, -0.1336715 , -0.09511433, -0.05655717,\n",
       "        -0.018     ,  0.02055717,  0.05911434,  0.09767151,  0.13622868,\n",
       "         0.17478585,  0.21334301,  0.25190018,  0.29045735,  0.32901452,\n",
       "         0.36757169]),\n",
       " <BarContainer object of 20 artists>)"
      ]
     },
     "execution_count": 10,
     "metadata": {},
     "output_type": "execute_result"
    },
    {
     "data": {
      "image/png": "[encoded data removed]",
      "text/plain": [
       "<Figure size 432x288 with 1 Axes>"
      ]
     },
     "metadata": {
      "needs_background": "light"
     },
     "output_type": "display_data"
    },
    {
     "data": {
      "image/png": "[encoded data removed]",
      "text/plain": [
       "<Figure size 432x288 with 1 Axes>"
      ]
     },
     "metadata": {
      "needs_background": "light"
     },
     "output_type": "display_data"
    }
   ],
   "source": [
    "Q1 = Hedger(S0, K, T, r, mu, n_sims, n_steps)\n",
    "error_Q1, price_Q1 = Q1.simulate_delta_varying_vol()\n",
    "plt.figure(0)\n",
    "plt.hist(error_Q1, bins = 50)\n",
    "\n",
    "High_steps_Q1 = Hedger(S0, K, T, r, mu, n_sims, n_steps * 100)\n",
    "error2, price2 = High_steps_Q1.simulate_delta_varying_vol()\n",
    "\n",
    "plt.figure(1)\n",
    "plt.hist(error_Q1, bins = 20)\n",
    "plt.hist(error2, bins = 20)"
   ]
  },
  {
   "cell_type": "code",
   "execution_count": 11,
   "metadata": {},
   "outputs": [
    {
     "data": {
      "text/plain": [
       "[<matplotlib.lines.Line2D at 0x12c42d1a200>]"
      ]
     },
     "execution_count": 11,
     "metadata": {},
     "output_type": "execute_result"
    },
    {
     "data": {
      "image/png": "[encoded data removed]",
      "text/plain": [
       "<Figure size 432x288 with 1 Axes>"
      ]
     },
     "metadata": {
      "needs_background": "light"
     },
     "output_type": "display_data"
    }
   ],
   "source": [
    "n_points = 14\n",
    "n_steps_rme_testing = np.zeros(n_points)\n",
    "rms_error = np.zeros(n_points)\n",
    "for i in range(0, n_points):\n",
    "    n_steps_rme_testing[i] = 2 ** i + 1\n",
    "    dummy_hedger = Hedger(S0, K, T, r, mu, n_sims, int(n_steps_rme_testing[i]))\n",
    "    error, price = dummy_hedger.simulate_delta_varying_vol()\n",
    "    rms_error[i] = np.sqrt(np.mean(error ** 2))\n",
    "\n",
    "ax = plt.gca()\n",
    "ax.plot(np.log(n_steps_rme_testing), np.log(rms_error))"
   ]
  },
  {
   "cell_type": "markdown",
   "metadata": {},
   "source": [
    "## Q2"
   ]
  },
  {
   "cell_type": "code",
   "execution_count": 20,
   "metadata": {},
   "outputs": [],
   "source": [
    "Dummy = Hedger(S0, K, T, r, mu, n_sims, n_steps, simulation_end_time = T/2)\n",
    "\n",
    "e, p = Dummy.simulate_delta_varying_vol()"
   ]
  },
  {
   "cell_type": "code",
   "execution_count": 21,
   "metadata": {},
   "outputs": [
    {
     "data": {
      "text/plain": [
       "(array([  1.,   3.,  10.,  15.,  41.,  72., 153., 279., 439., 648., 870.,\n",
       "        835., 691., 436., 272., 135.,  65.,  20.,  10.,   5.]),\n",
       " array([-0.46057624, -0.41827499, -0.37597375, -0.33367251, -0.29137126,\n",
       "        -0.24907002, -0.20676878, -0.16446753, -0.12216629, -0.07986505,\n",
       "        -0.0375638 ,  0.00473744,  0.04703868,  0.08933993,  0.13164117,\n",
       "         0.17394241,  0.21624366,  0.2585449 ,  0.30084614,  0.34314739,\n",
       "         0.38544863]),\n",
       " <BarContainer object of 20 artists>)"
      ]
     },
     "execution_count": 21,
     "metadata": {},
     "output_type": "execute_result"
    },
    {
     "data": {
      "image/png": "[encoded data removed]",
      "text/plain": [
       "<Figure size 432x288 with 1 Axes>"
      ]
     },
     "metadata": {
      "needs_background": "light"
     },
     "output_type": "display_data"
    }
   ],
   "source": [
    "plt.hist(e, bins = 20)"
   ]
  },
  {
   "cell_type": "code",
   "execution_count": 14,
   "metadata": {},
   "outputs": [],
   "source": [
    "Q2_Test = Hedger(S0, K, 0.3, r, mu, 100_000, 1_000, simulation_end_time = 0.15, constant_vol_assumption = True)\n",
    "Q2_test_error, Q2_price_error = Q2_Test.simulate_delta_varying_vol()\n"
   ]
  },
  {
   "cell_type": "code",
   "execution_count": 15,
   "metadata": {},
   "outputs": [
    {
     "data": {
      "text/plain": [
       "(array([1.8769e+04, 3.2080e+04, 2.1606e+04, 1.2542e+04, 6.7870e+03,\n",
       "        3.6530e+03, 1.9320e+03, 1.1870e+03, 6.1000e+02, 3.5800e+02,\n",
       "        1.9300e+02, 1.2100e+02, 6.8000e+01, 4.9000e+01, 2.1000e+01,\n",
       "        1.1000e+01, 8.0000e+00, 4.0000e+00, 0.0000e+00, 1.0000e+00]),\n",
       " array([-0.68366467, -0.30405965,  0.07554537,  0.45515039,  0.83475541,\n",
       "         1.21436043,  1.59396545,  1.97357047,  2.35317549,  2.73278051,\n",
       "         3.11238553,  3.49199055,  3.87159557,  4.25120059,  4.63080561,\n",
       "         5.01041063,  5.39001566,  5.76962068,  6.1492257 ,  6.52883072,\n",
       "         6.90843574]),\n",
       " <BarContainer object of 20 artists>)"
      ]
     },
     "execution_count": 15,
     "metadata": {},
     "output_type": "execute_result"
    },
    {
     "data": {
      "image/png": "[encoded data removed]",
      "text/plain": [
       "<Figure size 432x288 with 1 Axes>"
      ]
     },
     "metadata": {
      "needs_background": "light"
     },
     "output_type": "display_data"
    }
   ],
   "source": [
    "plt.hist(Q2_test_error, bins = 20)"
   ]
  },
  {
   "cell_type": "code",
   "execution_count": 16,
   "metadata": {},
   "outputs": [],
   "source": [
    "Q2 = Hedger(S0, K, T, r, mu, 1_000, 1_000, simulation_end_time = T/2, constant_vol_assumption = True)\n",
    "error_Q2, price_Q2 = Q2.simulate_delta_varying_vol()\n"
   ]
  },
  {
   "cell_type": "code",
   "execution_count": 17,
   "metadata": {},
   "outputs": [
    {
     "data": {
      "text/plain": [
       "(array([ 1.,  0.,  1.,  0.,  1.,  0.,  0.,  0.,  1.,  1.,  3.,  5.,  6.,\n",
       "         6., 12.,  7., 10., 16., 14., 27., 14., 20., 26., 28., 21., 19.,\n",
       "        33., 31., 39., 42., 33., 51., 48., 40., 46., 54., 42., 53., 44.,\n",
       "        33., 37., 39., 38., 27., 17.,  7.,  6.,  0.,  0.,  1.]),\n",
       " array([1.46217267, 1.52796355, 1.59375444, 1.65954532, 1.7253362 ,\n",
       "        1.79112709, 1.85691797, 1.92270886, 1.98849974, 2.05429062,\n",
       "        2.12008151, 2.18587239, 2.25166328, 2.31745416, 2.38324504,\n",
       "        2.44903593, 2.51482681, 2.5806177 , 2.64640858, 2.71219947,\n",
       "        2.77799035, 2.84378123, 2.90957212, 2.975363  , 3.04115389,\n",
       "        3.10694477, 3.17273565, 3.23852654, 3.30431742, 3.37010831,\n",
       "        3.43589919, 3.50169007, 3.56748096, 3.63327184, 3.69906273,\n",
       "        3.76485361, 3.83064449, 3.89643538, 3.96222626, 4.02801715,\n",
       "        4.09380803, 4.15959891, 4.2253898 , 4.29118068, 4.35697157,\n",
       "        4.42276245, 4.48855333, 4.55434422, 4.6201351 , 4.68592599,\n",
       "        4.75171687]),\n",
       " <BarContainer object of 50 artists>)"
      ]
     },
     "execution_count": 17,
     "metadata": {},
     "output_type": "execute_result"
    },
    {
     "data": {
      "image/png": "[encoded data removed]",
      "text/plain": [
       "<Figure size 432x288 with 1 Axes>"
      ]
     },
     "metadata": {
      "needs_background": "light"
     },
     "output_type": "display_data"
    }
   ],
   "source": [
    "plt.hist(error_Q2, bins = 50)"
   ]
  },
  {
   "cell_type": "code",
   "execution_count": 18,
   "metadata": {},
   "outputs": [
    {
     "data": {
      "text/plain": [
       "array([2.38401743, 4.37940813])"
      ]
     },
     "execution_count": 18,
     "metadata": {},
     "output_type": "execute_result"
    }
   ],
   "source": [
    "np.percentile(error_Q2, q = [2.5, 97.5])"
   ]
  },
  {
   "cell_type": "code",
   "execution_count": 19,
   "metadata": {},
   "outputs": [
    {
     "data": {
      "text/plain": [
       "3.544389515283507"
      ]
     },
     "execution_count": 19,
     "metadata": {},
     "output_type": "execute_result"
    }
   ],
   "source": [
    "np.mean(error_Q2)"
   ]
  },
  {
   "cell_type": "code",
   "execution_count": null,
   "metadata": {},
   "outputs": [],
   "source": []
  }
 ],
 "metadata": {
  "kernelspec": {
   "display_name": "Python 3",
   "language": "python",
   "name": "python3"
  },
  "language_info": {
   "codemirror_mode": {
    "name": "ipython",
    "version": 3
   },
   "file_extension": ".py",
   "mimetype": "text/x-python",
   "name": "python",
   "nbconvert_exporter": "python",
   "pygments_lexer": "ipython3",
   "version": "3.10.4"
  }
 },
 "nbformat": 4,
 "nbformat_minor": 2
}
