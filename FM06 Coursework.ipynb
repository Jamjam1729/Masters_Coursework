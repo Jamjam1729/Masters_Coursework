{
 "cells": [
  {
   "cell_type": "code",
   "execution_count": 1,
   "metadata": {},
   "outputs": [],
   "source": [
    "#Setup\n",
    "import numpy as np\n",
    "from numpy.testing import assert_almost_equal\n",
    "import scipy.integrate as integrate\n",
    "from scipy.stats import norm\n",
    "import matplotlib.pyplot as plt \n"
   ]
  },
  {
   "cell_type": "markdown",
   "metadata": {},
   "source": [
    "## Part 0 - Setup"
   ]
  },
  {
   "cell_type": "code",
   "execution_count": 2,
   "metadata": {},
   "outputs": [],
   "source": [
    "### Constants\n",
    "sigma1 = 0.11\n",
    "sigma2 = 0.13\n",
    "T = 1.7\n",
    "mu = 0.13\n",
    "r = 0.01\n",
    "S0 = 149\n",
    "time_break = 0.3\n",
    "K = 188\n",
    "KH = S0\n",
    "n_sims = 5_000\n",
    "n_steps = int(T * 365) #Assume time in years, this is daily time-steps"
   ]
  },
  {
   "cell_type": "code",
   "execution_count": 3,
   "metadata": {},
   "outputs": [],
   "source": [
    "### Helper Functions\n",
    "\n",
    "### Time-varying vol\n",
    "\n",
    "def time_varying_vol(t):\n",
    "    if t > time_break:\n",
    "        return sigma1 + sigma2 * (t - time_break)/(T - time_break)\n",
    "    return sigma1\n",
    "\n",
    "assert_almost_equal(np.array([time_varying_vol(0.2), time_varying_vol(0.4), time_varying_vol(0.5), time_varying_vol(T)]) ,\n",
    "                    np.array([sigma1, 0.11928571428, 0.128571429, sigma1 + sigma2]))\n",
    "\n",
    "def integrate_vol(start_time = 0, end_time = T):\n",
    "    squared_vol = lambda x: time_varying_vol(x) ** 2\n",
    "    result = integrate.quad(squared_vol, start_time, end_time)\n",
    "    return result[0]\n",
    "\n",
    "assert_almost_equal(np.array([integrate_vol(end_time = time_break), integrate_vol(0, 1), integrate_vol(start_time = 0)]),\n",
    "                    np.array([time_break * sigma1 ** 2, 0.018090833333, 0.0484766666]))\n",
    "\n",
    "### Black-Scholes\n",
    "\n",
    "def get_d1_and_d2(S, t, K, T, r, sigma):\n",
    "    tau = T - t\n",
    "    d1 = 1/(sigma * np.sqrt(tau)) * (np.log(S/K) + (r + sigma ** 2 / 2) * tau)    \n",
    "    d2 = d1 - sigma * np.sqrt(tau)\n",
    "    return d1, d2\n",
    "\n",
    "\n",
    "def black_scholes_call_price(S, t, K, T, r,sigma):\n",
    "    d1, d2 = get_d1_and_d2(S, t, K, T, r, sigma)\n",
    "    return S * norm.cdf(d1) - K * np.exp(-r * T) * norm.cdf(d2)\n",
    "\n",
    "def black_scholes_put_price(S,t, K,T,r,sigma):\n",
    "    d1, d2 = get_d1_and_d2(S, t, K, T, r, sigma)\n",
    "    return  K * np.exp(-r * T) * norm.cdf( -d2) - S * norm.cdf(-d1) \n",
    "\n",
    "def black_scholes_call_delta(S, t, K, T, r,sigma):\n",
    "    d1, d2 = get_d1_and_d2(S, t, K, T, r, sigma)\n",
    "    return norm.cdf(d1)\n",
    "\n",
    "def black_scholes_put_delta(S, t, K, T, r,sigma):\n",
    "    d1, d2 = get_d1_and_d2(S, t, K, T, r, sigma)\n",
    "    return -1 * norm.cdf(-1 * d1)\n",
    "\n",
    "def black_scholes_gamma(S, t, K, T, r,sigma):\n",
    "    #same for a call and put\n",
    "    d1, d2 = get_d1_and_d2(S, t, K, T, r, sigma)\n",
    "    return norm.pdf(d1)/(S * sigma * np.sqrt(T - t))\n",
    "\n",
    "\n",
    "assert_almost_equal(black_scholes_call_price(100,0,  100, 1, 0.01, 0.2), 8.43332, decimal = 5)\n",
    "assert_almost_equal(black_scholes_call_delta(100,0, 100, 1, 0.01, 0.2), 0.55962, decimal = 5)\n",
    "assert_almost_equal(black_scholes_gamma(100,0, 100, 1, 0.01, 0.2), 0.01972, decimal = 5)\n",
    "assert_almost_equal(black_scholes_put_price(100,0, 100, 1, 0.01, 0.2), 7.43831, decimal = 5)\n",
    "assert_almost_equal(black_scholes_put_delta(100,0, 100, 1, 0.01, 0.2), -0.44038, decimal = 5)\n",
    "assert_almost_equal(black_scholes_gamma(100,0, 100, 1, 0.01, 0.2), 0.01972, decimal = 5)\n"
   ]
  },
  {
   "cell_type": "markdown",
   "metadata": {},
   "source": [
    "## Q1 - Delta Hedging"
   ]
  },
  {
   "cell_type": "code",
   "execution_count": 6,
   "metadata": {},
   "outputs": [],
   "source": [
    "def simulate_gbm(S0, mu, T, n_sims, n_steps):\n",
    "    \n",
    "    rng = np.random.default_rng(seed = 42)\n",
    "    paths = np.zeros([n_sims, n_steps + 1])\n",
    "    dt = T / n_steps\n",
    "    paths[:, 0] = S0\n",
    "\n",
    "    times = np.linspace(0, T, n_steps + 1)\n",
    "\n",
    "    epsilon = rng.normal(size = [n_sims, n_steps])\n",
    "    \n",
    "    for i in range(0, n_steps):\n",
    "        #Euler-Maruyama Scheme\n",
    "        paths[:, i + 1] = paths[:, i] + paths[:, i] * mu * dt + paths[:, i] * time_varying_vol(times[i]) * np.sqrt(dt) * epsilon[:, i]\n",
    "                                               \n",
    "    return paths, times\n",
    "\n",
    "def simulate_delta_varying_vol(S0, K, T, r, mu, n_sims, n_steps):\n",
    "    \n",
    "    int_vol = np.sqrt(1 / T * integrate_vol(end_time = T))\n",
    "    paths, times = simulate_gbm(S0, mu, T, n_sims, n_steps)\n",
    "    V = black_scholes_call_price(S0, 0, K, T, r, int_vol)\n",
    "\n",
    "    portfolio = np.zeros(paths.shape)\n",
    "    portfolio[:, 0] = V\n",
    "    t = times[0]\n",
    "    dt = T / n_steps\n",
    "\n",
    "    for i in range(0, len(times) - 1):\n",
    "        t = times[i]\n",
    "    \n",
    "        S_at_t = paths[:, i] \n",
    "        S_at_t_plus_dt = paths[:, i+1]\n",
    "\n",
    "        vol_t = np.sqrt(1 / (T - t) * integrate_vol(start_time = t, end_time = T))\n",
    "        delta_t = black_scholes_call_delta(S_at_t, t, K, T, r, vol_t)\n",
    "\n",
    "        bank_at_t = portfolio[:, i] - delta_t * S_at_t \n",
    "        \n",
    "        bank_at_t_plus_dt = bank_at_t * np.exp(dt * r)\n",
    "        new_stock_value = delta_t * S_at_t_plus_dt\n",
    "\n",
    "        portfolio[:, i + 1] = bank_at_t_plus_dt + new_stock_value\n",
    "\n",
    "    S_T = paths[:, -1]\n",
    "    \n",
    "    final_portfolio = portfolio[:, -1]\n",
    "    error = final_portfolio - np.maximum(S_T - K, 0)\n",
    "    return error, V\n",
    "\n"
   ]
  },
  {
   "cell_type": "code",
   "execution_count": 7,
   "metadata": {},
   "outputs": [],
   "source": [
    "error, price = simulate_delta_varying_vol(S0, K, T, r, mu, n_sims,  n_steps)\n"
   ]
  },
  {
   "cell_type": "code",
   "execution_count": 8,
   "metadata": {},
   "outputs": [],
   "source": [
    "error_test, price_test = simulate_delta_varying_vol(S0, K, 0.3, r, mu, n_sims,  n_steps)\n",
    "assert_almost_equal(price_test, black_scholes_call_price(S0, 0, K, 0.3, r, sigma1))"
   ]
  },
  {
   "cell_type": "code",
   "execution_count": 9,
   "metadata": {},
   "outputs": [
    {
     "data": {
      "text/plain": [
       "(array([  1.,   0.,   0.,   0.,   0.,   1.,   0.,   0.,   2.,   1.,   3.,\n",
       "          0.,   2.,   2.,   4.,   5.,   8.,  16.,  15.,  28.,  42.,  49.,\n",
       "         71.,  97., 144., 228., 306., 401., 687., 839., 614., 423., 303.,\n",
       "        203., 140.,  97.,  64.,  62.,  45.,  26.,  19.,   7.,  15.,  12.,\n",
       "          6.,   7.,   2.,   1.,   1.,   1.]),\n",
       " array([-4.81681751, -4.65285126, -4.48888502, -4.32491877, -4.16095253,\n",
       "        -3.99698628, -3.83302004, -3.66905379, -3.50508754, -3.3411213 ,\n",
       "        -3.17715505, -3.01318881, -2.84922256, -2.68525632, -2.52129007,\n",
       "        -2.35732383, -2.19335758, -2.02939134, -1.86542509, -1.70145884,\n",
       "        -1.5374926 , -1.37352635, -1.20956011, -1.04559386, -0.88162762,\n",
       "        -0.71766137, -0.55369513, -0.38972888, -0.22576264, -0.06179639,\n",
       "         0.10216986,  0.2661361 ,  0.43010235,  0.59406859,  0.75803484,\n",
       "         0.92200108,  1.08596733,  1.24993357,  1.41389982,  1.57786606,\n",
       "         1.74183231,  1.90579856,  2.0697648 ,  2.23373105,  2.39769729,\n",
       "         2.56166354,  2.72562978,  2.88959603,  3.05356227,  3.21752852,\n",
       "         3.38149477]),\n",
       " <BarContainer object of 50 artists>)"
      ]
     },
     "execution_count": 9,
     "metadata": {},
     "output_type": "execute_result"
    },
    {
     "data": {
      "image/png": "[encoded data removed]",
      "text/plain": [
       "<Figure size 432x288 with 1 Axes>"
      ]
     },
     "metadata": {
      "needs_background": "light"
     },
     "output_type": "display_data"
    }
   ],
   "source": [
    "plt.hist(error, bins = 50)"
   ]
  },
  {
   "cell_type": "code",
   "execution_count": 10,
   "metadata": {},
   "outputs": [
    {
     "data": {
      "text/plain": [
       "(array([   3.,    2.,    5.,    8.,   18.,   36.,   92.,  197.,  421.,\n",
       "         898., 1729.,  857.,  373.,  191.,   81.,   49.,   22.,    9.,\n",
       "           4.,    5.]),\n",
       " array([-0.40357168, -0.36501452, -0.32645735, -0.28790018, -0.24934301,\n",
       "        -0.21078584, -0.17222867, -0.1336715 , -0.09511433, -0.05655717,\n",
       "        -0.018     ,  0.02055717,  0.05911434,  0.09767151,  0.13622868,\n",
       "         0.17478585,  0.21334301,  0.25190018,  0.29045735,  0.32901452,\n",
       "         0.36757169]),\n",
       " <BarContainer object of 20 artists>)"
      ]
     },
     "execution_count": 10,
     "metadata": {},
     "output_type": "execute_result"
    },
    {
     "data": {
      "image/png": "[encoded data removed]",
      "text/plain": [
       "<Figure size 432x288 with 1 Axes>"
      ]
     },
     "metadata": {
      "needs_background": "light"
     },
     "output_type": "display_data"
    }
   ],
   "source": [
    "error1, price1 = simulate_delta_varying_vol(S0, K, T, r, mu, n_sims, n_steps)\n",
    "error2, price1 = simulate_delta_varying_vol(S0, K, T, r, mu, n_sims, 100 * n_steps)\n",
    "\n",
    "plt.hist(error1,bins = 20)\n",
    "plt.hist(error2, bins = 20)\n"
   ]
  },
  {
   "cell_type": "code",
   "execution_count": 11,
   "metadata": {},
   "outputs": [
    {
     "data": {
      "text/plain": [
       "[<matplotlib.lines.Line2D at 0x2cae7096ef0>]"
      ]
     },
     "execution_count": 11,
     "metadata": {},
     "output_type": "execute_result"
    },
    {
     "data": {
      "image/png": "[encoded data removed]",
      "text/plain": [
       "<Figure size 432x288 with 1 Axes>"
      ]
     },
     "metadata": {
      "needs_background": "light"
     },
     "output_type": "display_data"
    }
   ],
   "source": [
    "n_points = 14\n",
    "n_steps_rme_testing = np.zeros(n_points)\n",
    "rms_error = np.zeros(n_points)\n",
    "for i in range(0, n_points):\n",
    "    n_steps_rme_testing[i] = 2 ** i + 1\n",
    "    error, price = simulate_delta_varying_vol(S0, K, T, r,  mu, n_sims, int(n_steps_rme_testing[i]))\n",
    "    rms_error[i] = np.sqrt(np.mean(error ** 2))\n",
    "\n",
    "ax = plt.gca()\n",
    "ax.plot(np.log(n_steps_rme_testing), np.log(rms_error))\n",
    "\n"
   ]
  }
 ],
 "metadata": {
  "kernelspec": {
   "display_name": "Python 3",
   "language": "python",
   "name": "python3"
  },
  "language_info": {
   "codemirror_mode": {
    "name": "ipython",
    "version": 3
   },
   "file_extension": ".py",
   "mimetype": "text/x-python",
   "name": "python",
   "nbconvert_exporter": "python",
   "pygments_lexer": "ipython3",
   "version": "3.10.4"
  }
 },
 "nbformat": 4,
 "nbformat_minor": 2
}
