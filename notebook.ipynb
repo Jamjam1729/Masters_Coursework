{
 "cells": [
  {
   "cell_type": "code",
   "execution_count": 28,
   "metadata": {},
   "outputs": [],
   "source": [
    "#Setup\n",
    "import numpy as np\n",
    "from numpy.testing import assert_almost_equal\n",
    "import scipy.integrate as integrate\n",
    "from scipy.stats import norm\n",
    "import matplotlib.pyplot as plt \n"
   ]
  },
  {
   "cell_type": "markdown",
   "metadata": {},
   "source": [
    "## Part 0 - Setup"
   ]
  },
  {
   "cell_type": "code",
   "execution_count": 29,
   "metadata": {},
   "outputs": [],
   "source": [
    "### Constants\n",
    "sigma1 = 0.11\n",
    "sigma2 = 0.13\n",
    "T = 1.7\n",
    "mu = 0.13\n",
    "r = 0.01\n",
    "S0 = 149\n",
    "time_break = 0.3\n",
    "K = 188\n",
    "KH = S0\n",
    "n_sims = 5_000 #default value, overwritten later\n",
    "n_steps = int(T * 365) #Assume time in years, this is daily time-steps"
   ]
  },
  {
   "cell_type": "code",
   "execution_count": 30,
   "metadata": {},
   "outputs": [],
   "source": [
    "### Helper Functions\n",
    "\n",
    "### Black-Scholes\n",
    "\n",
    "def get_d1_and_d2(S, t, K, T, r, sigma):\n",
    "    tau = T - t\n",
    "    d1 = 1/(sigma * np.sqrt(tau)) * (np.log(S/K) + (r + sigma ** 2 / 2) * tau)    \n",
    "    d2 = d1 - sigma * np.sqrt(tau)\n",
    "    return d1, d2\n",
    "\n",
    "def black_scholes_call_price(S, t, K, T, r,sigma):\n",
    "    d1, d2 = get_d1_and_d2(S, t, K, T, r, sigma)\n",
    "    return S * norm.cdf(d1) - K * np.exp(-r * (T- t)) * norm.cdf(d2)\n",
    "\n",
    "def black_scholes_put_price(S,t, K,T,r,sigma):\n",
    "    d1, d2 = get_d1_and_d2(S, t, K, T, r, sigma)\n",
    "    return  K * np.exp(-r * (T - t)) * norm.cdf( -d2) - S * norm.cdf(-d1) \n",
    "\n",
    "def black_scholes_call_delta(S, t, K, T, r,sigma):\n",
    "    d1, d2 = get_d1_and_d2(S, t, K, T, r, sigma)\n",
    "    return norm.cdf(d1)\n",
    "\n",
    "def black_scholes_put_delta(S, t, K, T, r,sigma):\n",
    "    d1, d2 = get_d1_and_d2(S, t, K, T, r, sigma)\n",
    "    return -1 * norm.cdf(-1 * d1)\n",
    "\n",
    "def black_scholes_gamma(S, t, K, T, r,sigma):\n",
    "    #same for a call and put\n",
    "    d1, d2 = get_d1_and_d2(S, t, K, T, r, sigma)\n",
    "    return norm.pdf(d1)/(S * sigma * np.sqrt(T - t))\n",
    "\n",
    "### Test helper functions. Numerical values evaluated on a calculator\n",
    "\n",
    "assert_almost_equal(black_scholes_call_price(100,0,  100, 1, 0.01, 0.2), 8.43332, decimal = 5)\n",
    "assert_almost_equal(black_scholes_call_price(100,0.99,  95, 1, 0.01, 0.2), 5.01264, decimal = 5)\n",
    "assert_almost_equal(black_scholes_put_price(100,0, 100, 1, 0.01, 0.2), 7.43831, decimal = 5)\n",
    "assert_almost_equal(black_scholes_put_price(100,0.99,  95, 1, 0.01, 0.2), 0.00314, decimal = 5)\n",
    "\n",
    "assert_almost_equal(black_scholes_call_delta(100,0, 100, 1, 0.01, 0.2), 0.55962, decimal = 5)\n",
    "assert_almost_equal(black_scholes_call_delta(100,0.99,  95, 1, 0.01, 0.2), 0.99506, decimal = 5)\n",
    "assert_almost_equal(black_scholes_put_delta(100,0, 100, 1, 0.01, 0.2), -0.44038, decimal = 5)\n",
    "assert_almost_equal(black_scholes_put_delta(100,0.99, 95, 1, 0.01, 0.2), -0.00494, decimal = 5)\n",
    "\n",
    "assert_almost_equal(black_scholes_gamma(100,0, 100, 1, 0.01, 0.2), 0.01972, decimal = 5)\n",
    "assert_almost_equal(black_scholes_gamma(100,0.99, 95, 1, 0.01, 0.2), 0.00716, decimal = 5)"
   ]
  },
  {
   "cell_type": "code",
   "execution_count": 31,
   "metadata": {},
   "outputs": [],
   "source": [
    "class time_varying_vol:\n",
    "    def __init__(self):\n",
    "        pass\n",
    "    \n",
    "    def time_varying_vol(self, t):\n",
    "        if t > time_break:\n",
    "            return sigma1 + sigma2 * (t - time_break)/(T - time_break) #Note reference to global constant T, this is intentional \n",
    "        return sigma1\n",
    "\n",
    "    def integrate_vol(self, start_time, end_time):\n",
    "        squared_vol = lambda x: self.time_varying_vol(x) ** 2\n",
    "        result = integrate.quad(squared_vol, start_time, end_time)\n",
    "        return result[0]\n",
    "\n",
    "###Testing time varying vol. Numerical values evaluated manually\n",
    "\n",
    "Test_vol = time_varying_vol()\n",
    "assert_almost_equal(np.array([Test_vol.time_varying_vol(0.2), Test_vol.time_varying_vol(0.4), Test_vol.time_varying_vol(0.5), Test_vol.time_varying_vol(T)]) ,\n",
    "                    np.array([sigma1, 0.11928571428, 0.128571429, sigma1 + sigma2]))\n",
    "\n",
    "assert_almost_equal(np.array([Test_vol.integrate_vol(start_time = 0, end_time = time_break), Test_vol.integrate_vol(0, 1), Test_vol.integrate_vol(start_time = 0, end_time = T)]),\n",
    "                    np.array([time_break * sigma1 ** 2, 0.018090833333, 0.0484766666]))"
   ]
  },
  {
   "cell_type": "code",
   "execution_count": 32,
   "metadata": {},
   "outputs": [],
   "source": [
    "def simulate_gbm(S0, mu, vol_model, n_steps, n_sims, simulation_end_time):\n",
    "    rng = np.random.default_rng(seed = 42) #Seed for result consistency\n",
    "    dt = simulation_end_time / n_steps\n",
    "    times = np.linspace(0, simulation_end_time, n_steps + 1)\n",
    "    epsilon = rng.normal(size = [n_sims, n_steps])\n",
    "    \n",
    "    paths = np.zeros([n_sims, n_steps + 1])\n",
    "    paths[:, 0] = np.log(S0)\n",
    "\n",
    "    for i in range(0, n_steps):\n",
    "        #Euler-Maruyama Scheme, as in notes\n",
    "        drift = (mu - 0.5 * vol_model.time_varying_vol(times[i]) ** 2) * dt\n",
    "        stochastic = vol_model.time_varying_vol(times[i]) * np.sqrt(dt) * epsilon[:, i]\n",
    "        paths[:, i + 1] = paths[:, i] + drift + stochastic\n",
    "    \n",
    "    paths = np.exp(paths)\n",
    "    return times, paths"
   ]
  },
  {
   "cell_type": "code",
   "execution_count": 33,
   "metadata": {},
   "outputs": [],
   "source": [
    "class Hedger:\n",
    "    def __init__(self, S0, K, T, r, mu, n_sims, n_steps, vol_model, simulation_end_time = None, constant_vol_assumption = False, do_gamma_hedging = False):\n",
    "        \n",
    "        #Inputs\n",
    "        self.S0 = S0\n",
    "        self.K = K\n",
    "        self.T = T\n",
    "        self.r = r\n",
    "        self.mu = mu\n",
    "        self.vol_model = vol_model\n",
    "        self.constant_vol_assumption = constant_vol_assumption\n",
    "        self.n_sims = n_sims\n",
    "        self.n_steps = n_steps\n",
    "        self.do_gamma_hedging = do_gamma_hedging\n",
    "\n",
    "        if self.do_gamma_hedging:\n",
    "            self.constant_vol_assumption = True #override this - in this coursework if gamma hedging is happening i.e. Q3/Q4, we are assuming constant vol\n",
    "\n",
    "        if simulation_end_time is not None:\n",
    "            self.simulation_end_time = simulation_end_time\n",
    "        else:\n",
    "            self.simulation_end_time = T #Assume full period unless specified\n",
    "\n",
    "        #Derived\n",
    "        self.dt = self.simulation_end_time / self.n_steps\n",
    "        full_period_vol = self.get_integrated_vol(0, self.T) \n",
    "        self.initial_price = black_scholes_call_price(self.S0, 0, self.K, self.T, self.r, full_period_vol)\n",
    "\n",
    "        #Always need paths and payoffs, so do this on initialisation\n",
    "        self.simulation_setup()\n",
    "        self.get_final_call_prices()\n",
    "\n",
    "    def get_integrated_vol(self, start_time, end_time):\n",
    "        #calculates integrated vol over a remaining time period. Designed to return vol depending on the assumption of the investor\n",
    "        if self.constant_vol_assumption:\n",
    "            return self.vol_model.time_varying_vol(self.T)  \n",
    "        else:\n",
    "            return np.sqrt(1 / (end_time - start_time) * self.vol_model.integrate_vol(start_time = start_time, end_time = end_time))\n",
    "\n",
    "    def simulation_setup(self):\n",
    "        self.times, self.paths = simulate_gbm(self.S0, self.mu, self.vol_model, self.n_steps, self.n_sims, self.simulation_end_time)\n",
    "\n",
    "    def get_final_call_prices(self):\n",
    "        S_T = self.paths[:, -1]\n",
    "        if self.simulation_end_time == self.T:\n",
    "            #then call is maturing now so can use the payoff formula\n",
    "            self.final_call_prices = np.maximum(S_T - self.K, 0)\n",
    "        else:\n",
    "            #call not yet matured, so needs to be priced using BS\n",
    "            integrated_vol = self.get_integrated_vol(self.simulation_end_time, self.T)\n",
    "            self.final_call_prices = black_scholes_call_price(S_T, self.simulation_end_time, self.K, self.T, self.r, integrated_vol)                  \n",
    "\n",
    "    def simulate_delta_varying_vol(self):\n",
    "        \n",
    "        portfolio = np.zeros(self.paths.shape)\n",
    "        portfolio[:, 0] = self.initial_price\n",
    "\n",
    "        for i in range(0, len(self.times) - 1):\n",
    "            t = self.times[i]\n",
    "            \n",
    "            S_at_t = self.paths[:, i] \n",
    "            S_at_t_plus_dt = self.paths[:, i+1]\n",
    "            \n",
    "            vol_t = self.get_integrated_vol(t, self.T)\n",
    "            delta_t = black_scholes_call_delta(S_at_t, t, self.K, self.T, self.r, vol_t)\n",
    "\n",
    "            if self.do_gamma_hedging:\n",
    "                #we are holding an option. We derive the option holding based on gamma, then the stock holding based on delta\n",
    "                t_plus_dt = self.times[i+1]\n",
    "\n",
    "                #can use same vol everywhere because it is assumed constant\n",
    "                hedge_option_at_t = black_scholes_put_price(S_at_t, t, KH, self.T,self.r, vol_t)\n",
    "                hedge_option_at_t_plus_dt = black_scholes_put_price(S_at_t_plus_dt, t_plus_dt, KH, self.T,self.r, vol_t) \n",
    "\n",
    "                hedging_gamma = black_scholes_gamma(S_at_t, t, KH, self.T,self.r, vol_t)\n",
    "                hedging_delta = black_scholes_put_delta(S_at_t, t, KH, self.T,self.r, vol_t)\n",
    "\n",
    "                target_gamma = black_scholes_gamma(S_at_t, t, self.K, self.T,self.r, vol_t)\n",
    "\n",
    "                option_holding = target_gamma / hedging_gamma\n",
    "            else:\n",
    "                #we aren't holding any option, so all the below need to be 0\n",
    "                hedge_option_at_t = 0\n",
    "                hedge_option_at_t_plus_dt = 0\n",
    "                option_holding = 0\n",
    "                hedging_delta = 0\n",
    "\n",
    "            stock_holding = (delta_t - option_holding * hedging_delta)\n",
    "\n",
    "            bank_at_t = portfolio[:, i] - stock_holding * S_at_t - option_holding * hedge_option_at_t\n",
    "            bank_at_t_plus_dt = bank_at_t * np.exp(self.dt * self.r)\n",
    "            \n",
    "            new_stock_value = stock_holding * S_at_t_plus_dt\n",
    "            new_option_value = option_holding * hedge_option_at_t_plus_dt\n",
    "\n",
    "            portfolio[:, i + 1] = bank_at_t_plus_dt + new_stock_value + new_option_value\n",
    "        \n",
    "        final_portfolio = portfolio[:, -1]\n",
    "        error = final_portfolio - self.final_call_prices\n",
    "        return error, self.initial_price"
   ]
  },
  {
   "cell_type": "markdown",
   "metadata": {},
   "source": [
    "## Q1 - Delta Hedging"
   ]
  },
  {
   "cell_type": "code",
   "execution_count": 34,
   "metadata": {},
   "outputs": [
    {
     "data": {
      "text/plain": [
       "(array([  2.,   0.,   1.,   1.,   1.,   3.,   1.,   1.,   2.,   4.,   6.,\n",
       "          8.,  14.,   9.,  18.,  25.,  46.,  40.,  60., 104., 137., 156.,\n",
       "        231., 324., 418., 610., 805., 566., 375., 266., 196., 139., 108.,\n",
       "         76.,  70.,  41.,  36.,  20.,  27.,  10.,  10.,  14.,   2.,   4.,\n",
       "          3.,   1.,   2.,   3.,   1.,   3.]),\n",
       " array([-0.40520292, -0.38979579, -0.37438866, -0.35898153, -0.3435744 ,\n",
       "        -0.32816727, -0.31276014, -0.29735301, -0.28194588, -0.26653875,\n",
       "        -0.25113162, -0.23572449, -0.22031736, -0.20491023, -0.1895031 ,\n",
       "        -0.17409597, -0.15868884, -0.14328171, -0.12787458, -0.11246745,\n",
       "        -0.09706032, -0.08165318, -0.06624605, -0.05083892, -0.03543179,\n",
       "        -0.02002466, -0.00461753,  0.0107896 ,  0.02619673,  0.04160386,\n",
       "         0.05701099,  0.07241812,  0.08782525,  0.10323238,  0.11863951,\n",
       "         0.13404664,  0.14945377,  0.1648609 ,  0.18026803,  0.19567516,\n",
       "         0.21108229,  0.22648942,  0.24189656,  0.25730369,  0.27271082,\n",
       "         0.28811795,  0.30352508,  0.31893221,  0.33433934,  0.34974647,\n",
       "         0.3651536 ]),\n",
       " <BarContainer object of 50 artists>)"
      ]
     },
     "execution_count": 34,
     "metadata": {},
     "output_type": "execute_result"
    },
    {
     "data": {
      "image/png": "[encoded data removed]",
      "text/plain": [
       "<Figure size 432x288 with 1 Axes>"
      ]
     },
     "metadata": {
      "needs_background": "light"
     },
     "output_type": "display_data"
    },
    {
     "data": {
      "image/png": "[encoded data removed]",
      "text/plain": [
       "<Figure size 432x288 with 1 Axes>"
      ]
     },
     "metadata": {
      "needs_background": "light"
     },
     "output_type": "display_data"
    }
   ],
   "source": [
    "vol_model = time_varying_vol()\n",
    "\n",
    "Q1 = Hedger(S0, K, T, r, mu, n_sims, n_steps, vol_model = vol_model)\n",
    "error_Q1, price_Q1 = Q1.simulate_delta_varying_vol()\n",
    "plt.figure(0)\n",
    "plt.hist(error_Q1, bins = 50)\n",
    "\n",
    "High_steps_Q1 = Hedger(S0, K, T, r, mu, n_sims, n_steps * 100, vol_model = vol_model)\n",
    "error_Q1_high, price_Q1_high2 = High_steps_Q1.simulate_delta_varying_vol()\n",
    "\n",
    "plt.figure(1)\n",
    "plt.hist(error_Q1, bins = 50)\n",
    "plt.hist(error_Q1_high, bins = 50)"
   ]
  },
  {
   "cell_type": "code",
   "execution_count": 35,
   "metadata": {},
   "outputs": [
    {
     "name": "stdout",
     "output_type": "stream",
     "text": [
      "3.1573080857906497\n"
     ]
    }
   ],
   "source": [
    "print(price_Q1)"
   ]
  },
  {
   "cell_type": "code",
   "execution_count": 37,
   "metadata": {},
   "outputs": [],
   "source": [
    "assert_almost_equal(np.percentile(error_Q1, q = [2.5, 97.5]), np.array([-1.3886681,  1.4653935]))"
   ]
  },
  {
   "cell_type": "code",
   "execution_count": null,
   "metadata": {},
   "outputs": [
    {
     "data": {
      "text/plain": [
       "[<matplotlib.lines.Line2D at 0x1f7ddf664a0>]"
      ]
     },
     "execution_count": 9,
     "metadata": {},
     "output_type": "execute_result"
    },
    {
     "data": {
      "image/png": "[encoded data removed]",
      "text/plain": [
       "<Figure size 432x288 with 1 Axes>"
      ]
     },
     "metadata": {
      "needs_background": "light"
     },
     "output_type": "display_data"
    }
   ],
   "source": [
    "n_points = 14\n",
    "n_steps_rme_testing = np.zeros(n_points)\n",
    "rms_error = np.zeros(n_points)\n",
    "for i in range(0, n_points):\n",
    "    n_steps_rme_testing[i] = 2 ** i + 1\n",
    "    dummy_hedger = Hedger(S0, K, T, r, mu, n_sims, int(n_steps_rme_testing[i]), vol_model = vol_model)\n",
    "    error, price = dummy_hedger.simulate_delta_varying_vol()\n",
    "    rms_error[i] = np.sqrt(np.mean(error ** 2))\n",
    "\n",
    "ax = plt.gca()\n",
    "ax.plot(np.log(n_steps_rme_testing), np.log(rms_error))"
   ]
  },
  {
   "cell_type": "markdown",
   "metadata": {},
   "source": [
    "## Q2"
   ]
  },
  {
   "cell_type": "code",
   "execution_count": 38,
   "metadata": {},
   "outputs": [],
   "source": [
    "Dummy = Hedger(S0, K, T, r, mu, n_sims, n_steps, vol_model = vol_model, simulation_end_time = T/2)\n",
    "\n",
    "e, p = Dummy.simulate_delta_varying_vol()"
   ]
  },
  {
   "cell_type": "code",
   "execution_count": 39,
   "metadata": {},
   "outputs": [
    {
     "data": {
      "text/plain": [
       "(array([  1.,   4.,   9.,  15.,  40.,  74., 157., 270., 437., 652., 858.,\n",
       "        828., 703., 440., 270., 140.,  66.,  21.,   9.,   6.]),\n",
       " array([-0.46086212, -0.41865194, -0.37644176, -0.33423158, -0.29202139,\n",
       "        -0.24981121, -0.20760103, -0.16539085, -0.12318067, -0.08097049,\n",
       "        -0.03876031,  0.00344987,  0.04566006,  0.08787024,  0.13008042,\n",
       "         0.1722906 ,  0.21450078,  0.25671096,  0.29892114,  0.34113133,\n",
       "         0.38334151]),\n",
       " <BarContainer object of 20 artists>)"
      ]
     },
     "execution_count": 39,
     "metadata": {},
     "output_type": "execute_result"
    },
    {
     "data": {
      "image/png": "[encoded data removed]",
      "text/plain": [
       "<Figure size 432x288 with 1 Axes>"
      ]
     },
     "metadata": {
      "needs_background": "light"
     },
     "output_type": "display_data"
    }
   ],
   "source": [
    "plt.hist(e, bins = 20)"
   ]
  },
  {
   "cell_type": "code",
   "execution_count": 40,
   "metadata": {},
   "outputs": [],
   "source": [
    "Q2_Test = Hedger(S0, K, 0.3, r, mu, 1_000, 1_000, vol_model = vol_model, simulation_end_time = 0.15, constant_vol_assumption = True)\n",
    "Q2_test_error, Q2_price_error = Q2_Test.simulate_delta_varying_vol()\n"
   ]
  },
  {
   "cell_type": "code",
   "execution_count": 41,
   "metadata": {},
   "outputs": [
    {
     "data": {
      "text/plain": [
       "(array([  1.,   0.,   0.,   0.,   0.,   0.,   0.,   1.,   0.,   0.,   0.,\n",
       "          0.,   0.,   0.,   0.,   0.,   1.,   1.,   2.,   1.,   7.,   7.,\n",
       "         13., 561., 387.,   8.,   6.,   3.,   0.,   1.]),\n",
       " array([-5.32491685e-03, -5.10287204e-03, -4.88082722e-03, -4.65878241e-03,\n",
       "        -4.43673759e-03, -4.21469277e-03, -3.99264796e-03, -3.77060314e-03,\n",
       "        -3.54855832e-03, -3.32651351e-03, -3.10446869e-03, -2.88242387e-03,\n",
       "        -2.66037906e-03, -2.43833424e-03, -2.21628942e-03, -1.99424461e-03,\n",
       "        -1.77219979e-03, -1.55015498e-03, -1.32811016e-03, -1.10606534e-03,\n",
       "        -8.84020526e-04, -6.61975710e-04, -4.39930894e-04, -2.17886077e-04,\n",
       "         4.15873928e-06,  2.26203556e-04,  4.48248372e-04,  6.70293188e-04,\n",
       "         8.92338005e-04,  1.11438282e-03,  1.33642764e-03]),\n",
       " <BarContainer object of 30 artists>)"
      ]
     },
     "execution_count": 41,
     "metadata": {},
     "output_type": "execute_result"
    },
    {
     "data": {
      "image/png": "[encoded data removed]",
      "text/plain": [
       "<Figure size 432x288 with 1 Axes>"
      ]
     },
     "metadata": {
      "needs_background": "light"
     },
     "output_type": "display_data"
    }
   ],
   "source": [
    "plt.hist(Q2_test_error, bins = 30)"
   ]
  },
  {
   "cell_type": "code",
   "execution_count": 42,
   "metadata": {},
   "outputs": [
    {
     "data": {
      "text/plain": [
       "(array([ 1.,  0.,  1.,  0.,  1.,  0.,  0.,  0.,  1.,  1.,  3.,  5.,  6.,\n",
       "         8.,  9.,  8., 10., 19., 11., 27., 14., 20., 26., 28., 21., 20.,\n",
       "        32., 31., 39., 43., 33., 50., 48., 41., 46., 52., 43., 54., 43.,\n",
       "        35., 36., 39., 37., 27., 17.,  7.,  6.,  0.,  0.,  1.]),\n",
       " array([1.46325753, 1.5290148 , 1.59477207, 1.66052934, 1.72628661,\n",
       "        1.79204388, 1.85780114, 1.92355841, 1.98931568, 2.05507295,\n",
       "        2.12083022, 2.18658749, 2.25234476, 2.31810203, 2.3838593 ,\n",
       "        2.44961656, 2.51537383, 2.5811311 , 2.64688837, 2.71264564,\n",
       "        2.77840291, 2.84416018, 2.90991745, 2.97567472, 3.04143198,\n",
       "        3.10718925, 3.17294652, 3.23870379, 3.30446106, 3.37021833,\n",
       "        3.4359756 , 3.50173287, 3.56749014, 3.6332474 , 3.69900467,\n",
       "        3.76476194, 3.83051921, 3.89627648, 3.96203375, 4.02779102,\n",
       "        4.09354829, 4.15930556, 4.22506282, 4.29082009, 4.35657736,\n",
       "        4.42233463, 4.4880919 , 4.55384917, 4.61960644, 4.68536371,\n",
       "        4.75112098]),\n",
       " <BarContainer object of 50 artists>)"
      ]
     },
     "execution_count": 42,
     "metadata": {},
     "output_type": "execute_result"
    },
    {
     "data": {
      "image/png": "[encoded data removed]",
      "text/plain": [
       "<Figure size 432x288 with 1 Axes>"
      ]
     },
     "metadata": {
      "needs_background": "light"
     },
     "output_type": "display_data"
    }
   ],
   "source": [
    "Q2 = Hedger(S0, K, T, r, mu, 1_000, 1_000, vol_model = vol_model, simulation_end_time = T/2, constant_vol_assumption = True)\n",
    "error_Q2, price_Q2 = Q2.simulate_delta_varying_vol()\n",
    "\n",
    "plt.hist(error_Q2, bins = 50)"
   ]
  },
  {
   "cell_type": "code",
   "execution_count": 44,
   "metadata": {},
   "outputs": [],
   "source": [
    "assert_almost_equal(np.percentile(error_Q2, q = [2.5, 97.5]), np.array([2.3824194, 4.3781215]))"
   ]
  },
  {
   "cell_type": "code",
   "execution_count": 45,
   "metadata": {},
   "outputs": [
    {
     "data": {
      "text/plain": [
       "(array([ 1.,  0.,  0.,  0.,  1.,  0.,  0.,  0.,  0.,  1.,  0.,  0.,  0.,\n",
       "         0.,  0.,  0.,  0.,  1.,  0.,  1.,  1.,  2.,  2.,  3.,  4.,  2.,\n",
       "         5.,  3.,  3.,  6.,  3.,  5.,  5.,  5.,  3., 16.,  6.,  5., 11.,\n",
       "        16.,  7.,  7., 12.,  8., 16., 10., 16., 12.,  9., 12.,  6., 14.,\n",
       "        14., 18., 17., 14., 17., 22., 23., 20., 18., 15., 31., 19., 32.,\n",
       "        16., 23., 18., 19., 27., 26., 26., 26., 17., 26., 28., 23., 20.,\n",
       "        16., 19., 19., 17., 20., 19., 23., 14., 15., 12., 10.,  7.,  3.,\n",
       "         4.,  2.,  4.,  0.,  0.,  0.,  0.,  0.,  1.]),\n",
       " array([1.46325753, 1.49613617, 1.5290148 , 1.56189343, 1.59477207,\n",
       "        1.6276507 , 1.66052934, 1.69340797, 1.72628661, 1.75916524,\n",
       "        1.79204388, 1.82492251, 1.85780114, 1.89067978, 1.92355841,\n",
       "        1.95643705, 1.98931568, 2.02219432, 2.05507295, 2.08795159,\n",
       "        2.12083022, 2.15370885, 2.18658749, 2.21946612, 2.25234476,\n",
       "        2.28522339, 2.31810203, 2.35098066, 2.3838593 , 2.41673793,\n",
       "        2.44961656, 2.4824952 , 2.51537383, 2.54825247, 2.5811311 ,\n",
       "        2.61400974, 2.64688837, 2.67976701, 2.71264564, 2.74552427,\n",
       "        2.77840291, 2.81128154, 2.84416018, 2.87703881, 2.90991745,\n",
       "        2.94279608, 2.97567472, 3.00855335, 3.04143198, 3.07431062,\n",
       "        3.10718925, 3.14006789, 3.17294652, 3.20582516, 3.23870379,\n",
       "        3.27158243, 3.30446106, 3.33733969, 3.37021833, 3.40309696,\n",
       "        3.4359756 , 3.46885423, 3.50173287, 3.5346115 , 3.56749014,\n",
       "        3.60036877, 3.6332474 , 3.66612604, 3.69900467, 3.73188331,\n",
       "        3.76476194, 3.79764058, 3.83051921, 3.86339785, 3.89627648,\n",
       "        3.92915511, 3.96203375, 3.99491238, 4.02779102, 4.06066965,\n",
       "        4.09354829, 4.12642692, 4.15930556, 4.19218419, 4.22506282,\n",
       "        4.25794146, 4.29082009, 4.32369873, 4.35657736, 4.389456  ,\n",
       "        4.42233463, 4.45521327, 4.4880919 , 4.52097053, 4.55384917,\n",
       "        4.5867278 , 4.61960644, 4.65248507, 4.68536371, 4.71824234,\n",
       "        4.75112098]),\n",
       " <BarContainer object of 100 artists>)"
      ]
     },
     "execution_count": 45,
     "metadata": {},
     "output_type": "execute_result"
    },
    {
     "data": {
      "image/png": "[encoded data removed]",
      "text/plain": [
       "<Figure size 432x288 with 1 Axes>"
      ]
     },
     "metadata": {
      "needs_background": "light"
     },
     "output_type": "display_data"
    }
   ],
   "source": [
    "plt.hist(error_Q2, bins = 100)"
   ]
  },
  {
   "cell_type": "markdown",
   "metadata": {},
   "source": [
    "## Q3 "
   ]
  },
  {
   "cell_type": "code",
   "execution_count": 46,
   "metadata": {},
   "outputs": [],
   "source": [
    "Q3_vol_model = time_varying_vol()\n",
    "\n",
    "def flat_vol(t):\n",
    "    return sigma1 + sigma2\n",
    "\n",
    "Q3_vol_model.time_varying_vol = flat_vol\n",
    "\n",
    "assert(Q3_vol_model.time_varying_vol(1) == sigma1 + sigma2)"
   ]
  },
  {
   "cell_type": "code",
   "execution_count": 47,
   "metadata": {},
   "outputs": [
    {
     "data": {
      "text/plain": [
       "(array([  6.,   2.,   8.,   7.,   7.,  26.,  39.,  68.,  78., 124., 196.,\n",
       "        245., 369., 504., 647., 683., 551., 424., 349., 216., 162., 117.,\n",
       "         67.,  40.,  43.,   8.,  11.,   1.,   1.,   1.]),\n",
       " array([-0.02110593, -0.01972409, -0.01834224, -0.0169604 , -0.01557855,\n",
       "        -0.01419671, -0.01281486, -0.01143302, -0.01005117, -0.00866932,\n",
       "        -0.00728748, -0.00590563, -0.00452379, -0.00314194, -0.0017601 ,\n",
       "        -0.00037825,  0.00100359,  0.00238544,  0.00376728,  0.00514913,\n",
       "         0.00653097,  0.00791282,  0.00929466,  0.01067651,  0.01205835,\n",
       "         0.0134402 ,  0.01482204,  0.01620389,  0.01758573,  0.01896758,\n",
       "         0.02034942]),\n",
       " <BarContainer object of 30 artists>)"
      ]
     },
     "execution_count": 47,
     "metadata": {},
     "output_type": "execute_result"
    },
    {
     "data": {
      "image/png": "[encoded data removed]",
      "text/plain": [
       "<Figure size 432x288 with 1 Axes>"
      ]
     },
     "metadata": {
      "needs_background": "light"
     },
     "output_type": "display_data"
    }
   ],
   "source": [
    "Q3 = Hedger(S0, K, T, r, mu, n_sims, n_steps, vol_model = Q3_vol_model, simulation_end_time = T/2, constant_vol_assumption = True, do_gamma_hedging = True)\n",
    "error_Q3, price_Q3 = Q3.simulate_delta_varying_vol()\n",
    "plt.figure(0)\n",
    "plt.hist(error_Q3, bins = 30)"
   ]
  },
  {
   "cell_type": "markdown",
   "metadata": {},
   "source": [
    "## Q4"
   ]
  },
  {
   "cell_type": "code",
   "execution_count": 48,
   "metadata": {},
   "outputs": [
    {
     "data": {
      "text/plain": [
       "(array([ 8., 23., 34., 60., 72., 79., 70., 76., 71., 74., 63., 50., 53.,\n",
       "        47., 46., 38., 33., 18., 15., 20., 11., 11.,  8., 12.,  4.,  1.,\n",
       "         0.,  2.,  0.,  1.]),\n",
       " array([-2.43169095e-04, -2.07149444e-04, -1.71129792e-04, -1.35110141e-04,\n",
       "        -9.90904889e-05, -6.30708372e-05, -2.70511856e-05,  8.96846603e-06,\n",
       "         4.49881177e-05,  8.10077693e-05,  1.17027421e-04,  1.53047073e-04,\n",
       "         1.89066724e-04,  2.25086376e-04,  2.61106027e-04,  2.97125679e-04,\n",
       "         3.33145331e-04,  3.69164982e-04,  4.05184634e-04,  4.41204286e-04,\n",
       "         4.77223937e-04,  5.13243589e-04,  5.49263241e-04,  5.85282892e-04,\n",
       "         6.21302544e-04,  6.57322195e-04,  6.93341847e-04,  7.29361499e-04,\n",
       "         7.65381150e-04,  8.01400802e-04,  8.37420454e-04]),\n",
       " <BarContainer object of 30 artists>)"
      ]
     },
     "execution_count": 48,
     "metadata": {},
     "output_type": "execute_result"
    },
    {
     "data": {
      "image/png": "[encoded data removed]",
      "text/plain": [
       "<Figure size 432x288 with 1 Axes>"
      ]
     },
     "metadata": {
      "needs_background": "light"
     },
     "output_type": "display_data"
    }
   ],
   "source": [
    "Q4_vol_model = time_varying_vol()\n",
    "Q4 = Hedger(S0, K, T, r, mu, 1_000, 10_000, vol_model = Q4_vol_model, simulation_end_time = T/2, constant_vol_assumption = True, do_gamma_hedging = True)\n",
    "error_Q4, price_Q4 = Q4.simulate_delta_varying_vol()\n",
    "\n",
    "plt.hist(error_Q4, bins = 30)"
   ]
  },
  {
   "cell_type": "code",
   "execution_count": 49,
   "metadata": {},
   "outputs": [
    {
     "data": {
      "text/plain": [
       "array([-0.0001825 ,  0.00055599])"
      ]
     },
     "execution_count": 49,
     "metadata": {},
     "output_type": "execute_result"
    }
   ],
   "source": [
    "np.percentile(error_Q4, q = [2.5, 97.5])"
   ]
  },
  {
   "cell_type": "code",
   "execution_count": null,
   "metadata": {},
   "outputs": [],
   "source": [
    "-0.00017839,  0.0005658"
   ]
  }
 ],
 "metadata": {
  "kernelspec": {
   "display_name": "Python 3",
   "language": "python",
   "name": "python3"
  },
  "language_info": {
   "codemirror_mode": {
    "name": "ipython",
    "version": 3
   },
   "file_extension": ".py",
   "mimetype": "text/x-python",
   "name": "python",
   "nbconvert_exporter": "python",
   "pygments_lexer": "ipython3",
   "version": "3.10.4"
  }
 },
 "nbformat": 4,
 "nbformat_minor": 2
}
