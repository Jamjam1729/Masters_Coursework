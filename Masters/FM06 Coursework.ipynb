{
 "cells": [
  {
   "cell_type": "code",
   "execution_count": 61,
   "metadata": {},
   "outputs": [],
   "source": [
    "#Setup\n",
    "import numpy as np\n",
    "from numpy.testing import assert_almost_equal\n",
    "import scipy.integrate as integrate\n",
    "from scipy.stats import norm\n",
    "import matplotlib.pyplot as plt \n",
    "rng = np.random.default_rng(seed = 42)"
   ]
  },
  {
   "cell_type": "code",
   "execution_count": 64,
   "metadata": {},
   "outputs": [],
   "source": [
    "### Constants\n",
    "sigma1 = 0.11\n",
    "sigma2 = 0.13\n",
    "T = 1.7\n",
    "mu = 0.13\n",
    "r = 0.01\n",
    "S0 = 149\n",
    "time_break = 0.3\n",
    "K = 188\n",
    "KH = S0\n",
    "n_sims = 1_000\n",
    "n_timesteps = 1_000"
   ]
  },
  {
   "cell_type": "code",
   "execution_count": 63,
   "metadata": {},
   "outputs": [],
   "source": [
    "### Helper Functions\n",
    "\n",
    "### Time-varying vol\n",
    "\n",
    "def time_varying_vol(t):\n",
    "    if t > time_break:\n",
    "        return sigma1 + sigma2 * (t - time_break)/(T - time_break)\n",
    "    return sigma1\n",
    "\n",
    "assert_almost_equal(np.array([time_varying_vol(0.2), time_varying_vol(0.4), time_varying_vol(T)]) ,\n",
    "                    np.array([sigma1, 0.11928571428, sigma1 + sigma2]))\n",
    "\n",
    "def integrated_vol(t):\n",
    "    squared_vol = lambda x: time_varying_vol(x) ** 2\n",
    "    result = integrate.quad(squared_vol, 0, t)\n",
    "    return result[0]\n",
    "\n",
    "assert_almost_equal(np.array([integrated_vol(0.3), integrated_vol(1), integrated_vol(1.7)]),\n",
    "                    np.array([0.3 * 0.11 ** 2, 0.018090833333, 0.0484766666]))\n",
    "\n",
    "### Black-Scholes\n",
    "\n",
    "def black_scholes_call_pricing(S0,K,T,r,sigma):\n",
    "    d1 = 1/(sigma * np.sqrt(T)) * (np.log(S0/K) + (r + sigma ** 2 / 2) * T)\n",
    "    d2 = d1 - sigma * np.sqrt(T) \n",
    "    price =  S0 * norm.cdf(d1) - K * np.exp(-r * T) * norm.cdf(d2)\n",
    "    delta = norm.cdf(d1)\n",
    "    gamma = norm.pdf(d1)/(S0 * sigma * np.sqrt(T))\n",
    "    return price, delta, gamma\n",
    "\n",
    "def black_scholes_put_pricing(S0,K,T,r,sigma):\n",
    "    # note that C - P = S0 - K * exp(-r*T), put-call parity\n",
    "    d1 = 1/(sigma * np.sqrt(T)) * (np.log(S0/K) + (r + sigma ** 2 / 2) * T)\n",
    "    price =  black_scholes_call_price(S0,K,T,r,sigma) + K * np.exp(-r* T) - S0\n",
    "    delta = norm.cdf(d1) - 1\n",
    "    gamma = norm.pdf(d1)/(S0 * sigma * np.sqrt(T))\n",
    "    return price, delta, gamma\n",
    "\n",
    "np.testing.assert_almost_equal(np.array([black_scholes_call_pricing(100, 100, 1, 0.01, 0.2),black_scholes_put_pricing(100, 100, 1, 0.01, 0.2)]),\n",
    "                                np.array([(8.43332, 0.55962, 0.01972),(7.43831, -0.44038, 0.01972)]) , decimal=5)\n"
   ]
  },
  {
   "cell_type": "code",
   "execution_count": null,
   "metadata": {},
   "outputs": [],
   "source": []
  }
 ],
 "metadata": {
  "kernelspec": {
   "display_name": "Python 3",
   "language": "python",
   "name": "python3"
  },
  "language_info": {
   "codemirror_mode": {
    "name": "ipython",
    "version": 3
   },
   "file_extension": ".py",
   "mimetype": "text/x-python",
   "name": "python",
   "nbconvert_exporter": "python",
   "pygments_lexer": "ipython3",
   "version": "3.10.4"
  }
 },
 "nbformat": 4,
 "nbformat_minor": 2
}
