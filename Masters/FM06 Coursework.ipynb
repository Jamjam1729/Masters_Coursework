{
 "cells": [
  {
   "cell_type": "code",
   "execution_count": 1,
   "metadata": {},
   "outputs": [],
   "source": [
    "#Setup\n",
    "import numpy as np\n",
    "from numpy.testing import assert_almost_equal\n",
    "import scipy.integrate as integrate\n",
    "from scipy.stats import norm\n",
    "import matplotlib.pyplot as plt \n"
   ]
  },
  {
   "cell_type": "markdown",
   "metadata": {},
   "source": [
    "## Part 0 - Setup"
   ]
  },
  {
   "cell_type": "code",
   "execution_count": 29,
   "metadata": {},
   "outputs": [],
   "source": [
    "### Constants\n",
    "sigma1 = 0.11\n",
    "sigma2 = 0.13\n",
    "T = 1.7\n",
    "mu = 0.13\n",
    "r = 0.01\n",
    "S0 = 149\n",
    "time_break = 0.3\n",
    "K = 188\n",
    "KH = S0\n",
    "n_sims = 1_000\n",
    "n_steps = 1_000"
   ]
  },
  {
   "cell_type": "code",
   "execution_count": 30,
   "metadata": {},
   "outputs": [],
   "source": [
    "### Helper Functions\n",
    "\n",
    "### Time-varying vol\n",
    "\n",
    "def time_varying_vol(t):\n",
    "    if t > time_break:\n",
    "        return sigma1 + sigma2 * (t - time_break)/(T - time_break)\n",
    "    return sigma1\n",
    "\n",
    "assert_almost_equal(np.array([time_varying_vol(0.2), time_varying_vol(0.4), time_varying_vol(0.5), time_varying_vol(T)]) ,\n",
    "                    np.array([sigma1, 0.11928571428, 0.128571429, sigma1 + sigma2]))\n",
    "\n",
    "def integrate_vol(start_time = 0, end_time = T):\n",
    "    squared_vol = lambda x: time_varying_vol(x) ** 2\n",
    "    result = integrate.quad(squared_vol, start_time, end_time)\n",
    "    return result[0]\n",
    "\n",
    "assert_almost_equal(np.array([integrate_vol(end_time = 0.3), integrate_vol(0, 1), integrate_vol(0, 1.7)]),\n",
    "                    np.array([0.3 * 0.11 ** 2, 0.018090833333, 0.0484766666]))\n",
    "\n",
    "### Black-Scholes\n",
    "\n",
    "def get_d1_and_d2(S, t, K, T, r, sigma):\n",
    "    tau = T - t\n",
    "    d1 = 1/(sigma * np.sqrt(tau)) * (np.log(S/K) + (r + sigma ** 2 / 2) * tau)    \n",
    "    d2 = d1 - sigma * np.sqrt(tau)\n",
    "    return d1, d2\n",
    "\n",
    "\n",
    "def black_scholes_call_price(S, t, K, T, r,sigma):\n",
    "    d1, d2 = get_d1_and_d2(S, t, K, T, r, sigma)\n",
    "    return S * norm.cdf(d1) - K * np.exp(-r * T) * norm.cdf(d2)\n",
    "\n",
    "def black_scholes_put_price(S,t, K,T,r,sigma):\n",
    "    d1, d2 = get_d1_and_d2(S, t, K, T, r, sigma)\n",
    "    return  K * np.exp(-r * T) * norm.cdf( -d2) - S * norm.cdf(-d1) \n",
    "\n",
    "def black_scholes_call_delta(S, t, K, T, r,sigma):\n",
    "    d1, d2 = get_d1_and_d2(S, t, K, T, r, sigma)\n",
    "    return norm.cdf(d1)\n",
    "\n",
    "def black_scholes_put_delta(S, t, K, T, r,sigma):\n",
    "    d1, d2 = get_d1_and_d2(S, t, K, T, r, sigma)\n",
    "    return -1 * norm.cdf(-1 * d1)\n",
    "\n",
    "def black_scholes_gamma(S, t, K, T, r,sigma):\n",
    "    #same for a call and put\n",
    "    d1, d2 = get_d1_and_d2(S, t, K, T, r, sigma)\n",
    "    return norm.pdf(d1)/(S * sigma * np.sqrt(T - t))\n",
    "\n",
    "\n",
    "assert_almost_equal(black_scholes_call_price(100,0,  100, 1, 0.01, 0.2), 8.43332, decimal = 5)\n",
    "assert_almost_equal(black_scholes_call_delta(100,0, 100, 1, 0.01, 0.2), 0.55962, decimal = 5)\n",
    "assert_almost_equal(black_scholes_gamma(100,0, 100, 1, 0.01, 0.2), 0.01972, decimal = 5)\n",
    "assert_almost_equal(black_scholes_put_price(100,0, 100, 1, 0.01, 0.2), 7.43831, decimal = 5)\n",
    "assert_almost_equal(black_scholes_put_delta(100,0, 100, 1, 0.01, 0.2), -0.44038, decimal = 5)\n",
    "assert_almost_equal(black_scholes_gamma(100,0, 100, 1, 0.01, 0.2), 0.01972, decimal = 5)\n"
   ]
  },
  {
   "cell_type": "markdown",
   "metadata": {},
   "source": [
    "## Q1 - Delta Hedging"
   ]
  },
  {
   "cell_type": "code",
   "execution_count": 31,
   "metadata": {},
   "outputs": [],
   "source": [
    "### Dummy testing case\n",
    "\n",
    "def simulate_gbm_paths(S0, mu, sigma, T, n_steps, n_paths):\n",
    "    rng = np.random.default_rng(seed = 42)\n",
    "    paths = np.zeros([n_paths, n_steps + 1])\n",
    "    dt = T / n_steps\n",
    "    paths[:, 0] = S0\n",
    "    times = np.linspace(0, T, n_steps + 1)\n",
    "\n",
    "    epsilon = rng.normal(size = [n_paths, n_steps])\n",
    "\n",
    "    for i in range(0, n_steps):\n",
    "        paths[:, i  +1] = paths[:, i] + paths[:, i] * mu * dt + paths[:, i] * sigma * np.sqrt(dt) * epsilon[:, i]\n",
    "\n",
    "    return paths, times\n",
    "\n",
    "def call_delta_hedging( S0, K, T, r, mu, sigma, n_steps, n_paths):\n",
    "    ### BEGIN SOLUTION\n",
    "    S, times = simulate_gbm_paths(S0,mu,sigma,T,n_steps,n_paths)\n",
    "    portfolio = np.zeros(S.shape)\n",
    "    t=times[0]\n",
    "    V = black_scholes_call_price(S0,0,K,T,r,sigma)\n",
    "    portfolio[:,0] = V\n",
    "    dt = T/n_steps #...\n",
    "    for i in range(0,len(times)-1):\n",
    "        t = times[i]\n",
    "        S_t=S[:,i]\n",
    "        q_t = black_scholes_call_delta(S_t,t,K,T,r,sigma)\n",
    "        B_t = portfolio[:,i]-q_t*S_t\n",
    "        B_with_interest = B_t*np.exp(dt*r)\n",
    "        S_tplusdt=S[:,i+1]\n",
    "        new_stock_value=q_t*S_tplusdt\n",
    "        portfolio[:,i+1]=B_with_interest+new_stock_value\n",
    "\n",
    "    S_T = S[:,-1]\n",
    "    final_balance = portfolio[:,-1]\n",
    "    error = final_balance - np.maximum(S_T - K,0)\n",
    "    return error\n",
    "\n",
    "S0_dummy = 100\n",
    "K_dummy = 100\n",
    "T_dummy = 1\n",
    "sigma_dummy = 0.2\n",
    "mu_dummy = 0.08\n",
    "r_dummy = 0.02\n",
    "n_steps_dummy = 365\n",
    "n_paths_dummy = 500\n",
    "\n",
    "err = call_delta_hedging(S0_dummy, K_dummy, T_dummy, r_dummy, mu_dummy, sigma_dummy, n_steps_dummy, n_paths_dummy)\n"
   ]
  },
  {
   "cell_type": "code",
   "execution_count": 32,
   "metadata": {},
   "outputs": [
    {
     "data": {
      "text/plain": [
       "(array([  3.,   7.,  15.,  45., 143., 183.,  72.,  20.,  10.,   2.]),\n",
       " array([-1.40211909, -1.13623939, -0.87035969, -0.60447999, -0.33860029,\n",
       "        -0.07272059,  0.19315911,  0.45903881,  0.72491851,  0.9907982 ,\n",
       "         1.2566779 ]),\n",
       " <BarContainer object of 10 artists>)"
      ]
     },
     "execution_count": 32,
     "metadata": {},
     "output_type": "execute_result"
    },
    {
     "data": {
      "image/png": "[encoded data removed]",
      "text/plain": [
       "<Figure size 432x288 with 1 Axes>"
      ]
     },
     "metadata": {
      "needs_background": "light"
     },
     "output_type": "display_data"
    }
   ],
   "source": [
    "plt.hist(err)"
   ]
  },
  {
   "cell_type": "code",
   "execution_count": 33,
   "metadata": {},
   "outputs": [],
   "source": [
    "\"\"\" def simulate_gbm_paths(S0, mu, sigma, T, n_steps, n_paths):\n",
    "    rng = np.random.default_rng(seed = 42)\n",
    "    paths = np.zeros([n_paths, n_steps + 1])\n",
    "    dt = T / n_steps\n",
    "    paths[:, 0] = S0\n",
    "    times = np.linspace(0, T, n_steps + 1)\n",
    "\n",
    "    epsilon = rng.normal(size = [n_paths, n_steps])\n",
    "\n",
    "    for i in range(0, n_steps):\n",
    "        paths[:, i  +1] = paths[:, i] + paths[:, i] * mu * dt + paths[:, i] * sigma * np.sqrt(dt) * epsilon[:, i]\n",
    "\n",
    "    return paths, times \"\"\"\n",
    "\n",
    "def simulate_gbm(S0, mu, T, n_sims, n_steps):\n",
    "    \n",
    "    rng = np.random.default_rng(seed = 42)\n",
    "    paths = np.zeros([n_sims, n_steps + 1])\n",
    "    dt = T / n_steps\n",
    "    paths[:, 0] = S0\n",
    "\n",
    "    times = np.linspace(0, T, n_steps + 1)\n",
    "\n",
    "    epsilon = rng.normal(size = [n_sims, n_steps])\n",
    "    \n",
    "    for i in range(0, n_steps):\n",
    "        #Euler-Maruyama Scheme\n",
    "        paths[:, i + 1] = paths[:, i] + paths[:, i] * mu * dt + paths[:, i] * time_varying_vol(times[i]) * np.sqrt(dt) * epsilon[:, i]\n",
    "                                               \n",
    "    return paths, times\n",
    "\n",
    "\"\"\" def call_delta_hedging( S0, K, T, r, mu, sigma, n_steps, n_paths):\n",
    "    ### BEGIN SOLUTION\n",
    "    S, times = simulate_gbm_paths(S0,mu,sigma,T,n_steps,n_paths)\n",
    "    portfolio = np.zeros(S.shape)\n",
    "    t=times[0]\n",
    "    V = black_scholes_call_price(S0,0,K,T,r,sigma)\n",
    "    portfolio[:,0] = V\n",
    "    dt = T/n_steps #...\n",
    "    for i in range(0,len(times)-1):\n",
    "        t = times[i]\n",
    "        S_t=S[:,i]\n",
    "        q_t = black_scholes_call_delta(S_t,t,K,T,r,sigma)\n",
    "        B_t = portfolio[:,i]-q_t*S_t\n",
    "        B_with_interest = B_t*np.exp(dt*r)\n",
    "        S_tplusdt=S[:,i+1]\n",
    "        new_stock_value=q_t*S_tplusdt\n",
    "        portfolio[:,i+1]=B_with_interest+new_stock_value\n",
    "\n",
    "    S_T = S[:,-1]\n",
    "    final_balance = portfolio[:,-1]\n",
    "    error = final_balance - np.maximum(S_T - K,0)\n",
    "    return error \"\"\"\n",
    "\n",
    "def simulate_delta_varying_vol(S0, K, T, r, mu, n_sims, n_steps):\n",
    "    int_vol = np.sqrt(integrate_vol(end_time = T))\n",
    "    paths, times = simulate_gbm(S0, mu, T, n_sims, n_steps)\n",
    "    V = black_scholes_call_price(S0, 0, K, 1, r, int_vol)\n",
    "\n",
    "    portfolio = np.zeros(paths.shape)\n",
    "    portfolio[:, 0] = V\n",
    "    t = times[0]\n",
    "    dt = T / n_steps\n",
    "\n",
    "    for i in range(0, len(times) - 1):\n",
    "        t = times[i]\n",
    "    \n",
    "        S_at_time_t = paths[:, i]\n",
    "        new_vol = np.sqrt(integrate_vol(start_time = t, end_time = T))    \n",
    "        delta_t = black_scholes_call_delta(S_at_time_t, t, K, T, r, new_vol)\n",
    "        bank_at_t = portfolio[:, i] - delta_t * S_at_time_t \n",
    "        bank_at_t_plus_dt = bank_at_t * np.exp(dt * r)\n",
    "        S_at_t_plus_dt = paths[:, i+1]\n",
    "        new_stock_value = delta_t * S_at_t_plus_dt\n",
    "        portfolio[:, i + 1] = bank_at_t_plus_dt + new_stock_value\n",
    "\n",
    "    S_T = paths[:, -1]\n",
    "    \n",
    "    final_portfolio = portfolio[:, -1]\n",
    "    error = final_portfolio - np.maximum(S_T - K, 0)\n",
    "    return paths, portfolio, error\n",
    "\n"
   ]
  },
  {
   "cell_type": "code",
   "execution_count": 34,
   "metadata": {},
   "outputs": [],
   "source": [
    "paths, port, error = simulate_delta_varying_vol(S0, K, T, r, mu, n_sims, n_steps)"
   ]
  },
  {
   "cell_type": "code",
   "execution_count": 36,
   "metadata": {},
   "outputs": [],
   "source": [
    "paths1, port1, error1 = simulate_delta_varying_vol(S0, K, T, r, mu, n_sims, n_steps)\n",
    "paths2, port2, error2 = simulate_delta_varying_vol(S0, K, T, r, mu, n_sims, 100 * n_steps)"
   ]
  },
  {
   "cell_type": "code",
   "execution_count": null,
   "metadata": {},
   "outputs": [],
   "source": []
  },
  {
   "cell_type": "code",
   "execution_count": 9,
   "metadata": {},
   "outputs": [],
   "source": [
    "int_vol = np.sqrt(integrate_vol(end_time = T))\n",
    "V = black_scholes_call_price(S0, 0, K, 1, r, int_vol)"
   ]
  },
  {
   "cell_type": "code",
   "execution_count": 10,
   "metadata": {},
   "outputs": [
    {
     "data": {
      "text/plain": [
       "2.9824930102691276"
      ]
     },
     "execution_count": 10,
     "metadata": {},
     "output_type": "execute_result"
    }
   ],
   "source": [
    "V"
   ]
  },
  {
   "cell_type": "code",
   "execution_count": null,
   "metadata": {},
   "outputs": [],
   "source": []
  }
 ],
 "metadata": {
  "kernelspec": {
   "display_name": "Python 3",
   "language": "python",
   "name": "python3"
  },
  "language_info": {
   "codemirror_mode": {
    "name": "ipython",
    "version": 3
   },
   "file_extension": ".py",
   "mimetype": "text/x-python",
   "name": "python",
   "nbconvert_exporter": "python",
   "pygments_lexer": "ipython3",
   "version": "3.10.4"
  }
 },
 "nbformat": 4,
 "nbformat_minor": 2
}
